{
  "nbformat": 4,
  "nbformat_minor": 0,
  "metadata": {
    "colab": {
      "provenance": []
    },
    "kernelspec": {
      "name": "python3",
      "display_name": "Python 3"
    },
    "language_info": {
      "name": "python"
    }
  },
  "cells": [
    {
      "cell_type": "code",
      "execution_count": 1,
      "metadata": {
        "colab": {
          "base_uri": "https://localhost:8080/"
        },
        "id": "Cap6y9-A4K43",
        "outputId": "8b8b80c6-f628-4d93-f70a-495c9d4fed90"
      },
      "outputs": [
        {
          "output_type": "stream",
          "name": "stdout",
          "text": [
            "Collecting pymysql\n",
            "  Downloading PyMySQL-1.1.0-py3-none-any.whl (44 kB)\n",
            "\u001b[?25l     \u001b[90m━━━━━━━━━━━━━━━━━━━━━━━━━━━━━━━━━━━━━━━━\u001b[0m \u001b[32m0.0/44.8 kB\u001b[0m \u001b[31m?\u001b[0m eta \u001b[36m-:--:--\u001b[0m\r\u001b[2K     \u001b[90m━━━━━━━━━━━━━━━━━━━━━━━━━━━━━━━━━━━━━━━━\u001b[0m \u001b[32m44.8/44.8 kB\u001b[0m \u001b[31m1.7 MB/s\u001b[0m eta \u001b[36m0:00:00\u001b[0m\n",
            "\u001b[?25hInstalling collected packages: pymysql\n",
            "Successfully installed pymysql-1.1.0\n"
          ]
        }
      ],
      "source": [
        "!pip install pymysql"
      ]
    },
    {
      "cell_type": "code",
      "source": [
        "%load_ext sql"
      ],
      "metadata": {
        "id": "xZBjsvch4ZHg"
      },
      "execution_count": 2,
      "outputs": []
    },
    {
      "cell_type": "code",
      "source": [
        "%sql sqlite:///ABC_DATA.db"
      ],
      "metadata": {
        "id": "ZjwGtV5F4hF_"
      },
      "execution_count": 3,
      "outputs": []
    },
    {
      "cell_type": "code",
      "source": [
        "%%sql CREATE TABLE Customers(\n",
        "    customer_id INT NOT NULL PRIMARY KEY,\n",
        "    first_name VARCHAR (20),\n",
        "    last_name VARCHAR(20),\n",
        "    email VARCHAR (30)\n",
        ");"
      ],
      "metadata": {
        "colab": {
          "base_uri": "https://localhost:8080/"
        },
        "id": "ElVKLATp4skY",
        "outputId": "28201546-8581-42b8-fd07-c318c29a4129"
      },
      "execution_count": 4,
      "outputs": [
        {
          "output_type": "stream",
          "name": "stdout",
          "text": [
            " * sqlite:///ABC_DATA.db\n",
            "Done.\n"
          ]
        },
        {
          "output_type": "execute_result",
          "data": {
            "text/plain": [
              "[]"
            ]
          },
          "metadata": {},
          "execution_count": 4
        }
      ]
    },
    {
      "cell_type": "code",
      "source": [
        "%%sql INSERT INTO Customers (customer_id,first_name,last_name,email) VALUES\n",
        "(1, 'John', 'Doe', 'johndoe@email.com'),\n",
        "(2, 'Jane', 'Smith', 'janesmith@email.com'),\n",
        "(3, 'Bob', 'Johnson', 'bobjohnson@email.com'),\n",
        "(4, 'Alice', 'Brown', 'alicebrown@email.com'),\n",
        "(5, 'Charlie', 'Davis', 'charliedavis@email.com'),\n",
        "(6, 'Eva', 'Fisher', 'evafisher@email.com'),\n",
        "(7, 'George', 'Harris', 'georgeharris@email.com'),\n",
        "(8, 'Ivy', 'Jones', 'ivyjones@email.com'),\n",
        "(9, 'Kevin', 'Miller', 'kevinmiller@email.com'),\n",
        "(10, 'Lily', 'Nelson', 'lilynelson@email.com'),\n",
        "(11, 'Oliver', 'Patterson', 'oliverpatterson@email.com'),\n",
        "(12, 'Quinn', 'Roberts', 'quinnroberts@email.com'),\n",
        "(13, 'Sophia', 'Thomas', 'sophiathomas@email.com');"
      ],
      "metadata": {
        "colab": {
          "base_uri": "https://localhost:8080/"
        },
        "id": "Ubb1xWkjteqz",
        "outputId": "9fdfca57-1b1f-4047-b1ba-7f80867547b4"
      },
      "execution_count": 5,
      "outputs": [
        {
          "output_type": "stream",
          "name": "stdout",
          "text": [
            " * sqlite:///ABC_DATA.db\n",
            "13 rows affected.\n"
          ]
        },
        {
          "output_type": "execute_result",
          "data": {
            "text/plain": [
              "[]"
            ]
          },
          "metadata": {},
          "execution_count": 5
        }
      ]
    },
    {
      "cell_type": "code",
      "source": [
        "%sql SELECT * FROM Customers;"
      ],
      "metadata": {
        "colab": {
          "base_uri": "https://localhost:8080/",
          "height": 347
        },
        "id": "h8KMs_khuY7y",
        "outputId": "20809b44-77e1-4b42-fded-bf90765b3aab"
      },
      "execution_count": 6,
      "outputs": [
        {
          "output_type": "stream",
          "name": "stdout",
          "text": [
            " * sqlite:///ABC_DATA.db\n",
            "Done.\n"
          ]
        },
        {
          "output_type": "execute_result",
          "data": {
            "text/plain": [
              "[(1, 'John', 'Doe', 'johndoe@email.com'),\n",
              " (2, 'Jane', 'Smith', 'janesmith@email.com'),\n",
              " (3, 'Bob', 'Johnson', 'bobjohnson@email.com'),\n",
              " (4, 'Alice', 'Brown', 'alicebrown@email.com'),\n",
              " (5, 'Charlie', 'Davis', 'charliedavis@email.com'),\n",
              " (6, 'Eva', 'Fisher', 'evafisher@email.com'),\n",
              " (7, 'George', 'Harris', 'georgeharris@email.com'),\n",
              " (8, 'Ivy', 'Jones', 'ivyjones@email.com'),\n",
              " (9, 'Kevin', 'Miller', 'kevinmiller@email.com'),\n",
              " (10, 'Lily', 'Nelson', 'lilynelson@email.com'),\n",
              " (11, 'Oliver', 'Patterson', 'oliverpatterson@email.com'),\n",
              " (12, 'Quinn', 'Roberts', 'quinnroberts@email.com'),\n",
              " (13, 'Sophia', 'Thomas', 'sophiathomas@email.com')]"
            ],
            "text/html": [
              "<table>\n",
              "    <thead>\n",
              "        <tr>\n",
              "            <th>customer_id</th>\n",
              "            <th>first_name</th>\n",
              "            <th>last_name</th>\n",
              "            <th>email</th>\n",
              "        </tr>\n",
              "    </thead>\n",
              "    <tbody>\n",
              "        <tr>\n",
              "            <td>1</td>\n",
              "            <td>John</td>\n",
              "            <td>Doe</td>\n",
              "            <td>johndoe@email.com</td>\n",
              "        </tr>\n",
              "        <tr>\n",
              "            <td>2</td>\n",
              "            <td>Jane</td>\n",
              "            <td>Smith</td>\n",
              "            <td>janesmith@email.com</td>\n",
              "        </tr>\n",
              "        <tr>\n",
              "            <td>3</td>\n",
              "            <td>Bob</td>\n",
              "            <td>Johnson</td>\n",
              "            <td>bobjohnson@email.com</td>\n",
              "        </tr>\n",
              "        <tr>\n",
              "            <td>4</td>\n",
              "            <td>Alice</td>\n",
              "            <td>Brown</td>\n",
              "            <td>alicebrown@email.com</td>\n",
              "        </tr>\n",
              "        <tr>\n",
              "            <td>5</td>\n",
              "            <td>Charlie</td>\n",
              "            <td>Davis</td>\n",
              "            <td>charliedavis@email.com</td>\n",
              "        </tr>\n",
              "        <tr>\n",
              "            <td>6</td>\n",
              "            <td>Eva</td>\n",
              "            <td>Fisher</td>\n",
              "            <td>evafisher@email.com</td>\n",
              "        </tr>\n",
              "        <tr>\n",
              "            <td>7</td>\n",
              "            <td>George</td>\n",
              "            <td>Harris</td>\n",
              "            <td>georgeharris@email.com</td>\n",
              "        </tr>\n",
              "        <tr>\n",
              "            <td>8</td>\n",
              "            <td>Ivy</td>\n",
              "            <td>Jones</td>\n",
              "            <td>ivyjones@email.com</td>\n",
              "        </tr>\n",
              "        <tr>\n",
              "            <td>9</td>\n",
              "            <td>Kevin</td>\n",
              "            <td>Miller</td>\n",
              "            <td>kevinmiller@email.com</td>\n",
              "        </tr>\n",
              "        <tr>\n",
              "            <td>10</td>\n",
              "            <td>Lily</td>\n",
              "            <td>Nelson</td>\n",
              "            <td>lilynelson@email.com</td>\n",
              "        </tr>\n",
              "        <tr>\n",
              "            <td>11</td>\n",
              "            <td>Oliver</td>\n",
              "            <td>Patterson</td>\n",
              "            <td>oliverpatterson@email.com</td>\n",
              "        </tr>\n",
              "        <tr>\n",
              "            <td>12</td>\n",
              "            <td>Quinn</td>\n",
              "            <td>Roberts</td>\n",
              "            <td>quinnroberts@email.com</td>\n",
              "        </tr>\n",
              "        <tr>\n",
              "            <td>13</td>\n",
              "            <td>Sophia</td>\n",
              "            <td>Thomas</td>\n",
              "            <td>sophiathomas@email.com</td>\n",
              "        </tr>\n",
              "    </tbody>\n",
              "</table>"
            ]
          },
          "metadata": {},
          "execution_count": 6
        }
      ]
    },
    {
      "cell_type": "code",
      "source": [
        "%%sql CREATE TABLE PRODUCTS(\n",
        "    product_id INT NOT NULL PRIMARY KEY,\n",
        "    product_name VARCHAR (30),\n",
        "    price DECIMAL (2,2)\n",
        ");"
      ],
      "metadata": {
        "colab": {
          "base_uri": "https://localhost:8080/"
        },
        "id": "Q0r78vUR5Q1P",
        "outputId": "5487f011-786a-4d19-b73a-e51b25220030"
      },
      "execution_count": 7,
      "outputs": [
        {
          "output_type": "stream",
          "name": "stdout",
          "text": [
            " * sqlite:///ABC_DATA.db\n",
            "Done.\n"
          ]
        },
        {
          "output_type": "execute_result",
          "data": {
            "text/plain": [
              "[]"
            ]
          },
          "metadata": {},
          "execution_count": 7
        }
      ]
    },
    {
      "cell_type": "code",
      "source": [
        "%%sql INSERT INTO PRODUCTS (product_id,product_name,price) VALUES\n",
        "(1, 'Product A', 10.00),\n",
        "(2, 'Product B', 15.00),\n",
        "(3, 'Product C', 20.00),\n",
        "(4, 'Product D', 25.00),\n",
        "(5, 'Product E', 30.00),\n",
        "(6, 'Product F', 35.00),\n",
        "(7, 'Product G', 40.00),\n",
        "(8, 'Product H', 45.00),\n",
        "(9, 'Product I', 50.00),\n",
        "(10, 'Product J', 55.00),\n",
        "(11, 'Product K', 60.00),\n",
        "(12, 'Product L', 65.00),\n",
        "(13, 'Product M', 70.00);"
      ],
      "metadata": {
        "colab": {
          "base_uri": "https://localhost:8080/"
        },
        "id": "cMc2XPB9ugFF",
        "outputId": "e88048dc-fd13-4375-a386-9bbcab5cdcaa"
      },
      "execution_count": 8,
      "outputs": [
        {
          "output_type": "stream",
          "name": "stdout",
          "text": [
            " * sqlite:///ABC_DATA.db\n",
            "13 rows affected.\n"
          ]
        },
        {
          "output_type": "execute_result",
          "data": {
            "text/plain": [
              "[]"
            ]
          },
          "metadata": {},
          "execution_count": 8
        }
      ]
    },
    {
      "cell_type": "code",
      "source": [
        "%sql SELECT * FROM PRODUCTS;"
      ],
      "metadata": {
        "colab": {
          "base_uri": "https://localhost:8080/",
          "height": 347
        },
        "id": "N4wItx9eu0PJ",
        "outputId": "8b17cc54-abf7-4401-c7b1-ec178b0318f3"
      },
      "execution_count": 9,
      "outputs": [
        {
          "output_type": "stream",
          "name": "stdout",
          "text": [
            " * sqlite:///ABC_DATA.db\n",
            "Done.\n"
          ]
        },
        {
          "output_type": "execute_result",
          "data": {
            "text/plain": [
              "[(1, 'Product A', 10),\n",
              " (2, 'Product B', 15),\n",
              " (3, 'Product C', 20),\n",
              " (4, 'Product D', 25),\n",
              " (5, 'Product E', 30),\n",
              " (6, 'Product F', 35),\n",
              " (7, 'Product G', 40),\n",
              " (8, 'Product H', 45),\n",
              " (9, 'Product I', 50),\n",
              " (10, 'Product J', 55),\n",
              " (11, 'Product K', 60),\n",
              " (12, 'Product L', 65),\n",
              " (13, 'Product M', 70)]"
            ],
            "text/html": [
              "<table>\n",
              "    <thead>\n",
              "        <tr>\n",
              "            <th>product_id</th>\n",
              "            <th>product_name</th>\n",
              "            <th>price</th>\n",
              "        </tr>\n",
              "    </thead>\n",
              "    <tbody>\n",
              "        <tr>\n",
              "            <td>1</td>\n",
              "            <td>Product A</td>\n",
              "            <td>10</td>\n",
              "        </tr>\n",
              "        <tr>\n",
              "            <td>2</td>\n",
              "            <td>Product B</td>\n",
              "            <td>15</td>\n",
              "        </tr>\n",
              "        <tr>\n",
              "            <td>3</td>\n",
              "            <td>Product C</td>\n",
              "            <td>20</td>\n",
              "        </tr>\n",
              "        <tr>\n",
              "            <td>4</td>\n",
              "            <td>Product D</td>\n",
              "            <td>25</td>\n",
              "        </tr>\n",
              "        <tr>\n",
              "            <td>5</td>\n",
              "            <td>Product E</td>\n",
              "            <td>30</td>\n",
              "        </tr>\n",
              "        <tr>\n",
              "            <td>6</td>\n",
              "            <td>Product F</td>\n",
              "            <td>35</td>\n",
              "        </tr>\n",
              "        <tr>\n",
              "            <td>7</td>\n",
              "            <td>Product G</td>\n",
              "            <td>40</td>\n",
              "        </tr>\n",
              "        <tr>\n",
              "            <td>8</td>\n",
              "            <td>Product H</td>\n",
              "            <td>45</td>\n",
              "        </tr>\n",
              "        <tr>\n",
              "            <td>9</td>\n",
              "            <td>Product I</td>\n",
              "            <td>50</td>\n",
              "        </tr>\n",
              "        <tr>\n",
              "            <td>10</td>\n",
              "            <td>Product J</td>\n",
              "            <td>55</td>\n",
              "        </tr>\n",
              "        <tr>\n",
              "            <td>11</td>\n",
              "            <td>Product K</td>\n",
              "            <td>60</td>\n",
              "        </tr>\n",
              "        <tr>\n",
              "            <td>12</td>\n",
              "            <td>Product L</td>\n",
              "            <td>65</td>\n",
              "        </tr>\n",
              "        <tr>\n",
              "            <td>13</td>\n",
              "            <td>Product M</td>\n",
              "            <td>70</td>\n",
              "        </tr>\n",
              "    </tbody>\n",
              "</table>"
            ]
          },
          "metadata": {},
          "execution_count": 9
        }
      ]
    },
    {
      "cell_type": "code",
      "source": [
        "%%sql CREATE TABLE Orders(\n",
        "    order_id INT NOT NULL PRIMARY KEY,\n",
        "    customer_id INT,\n",
        "    order_date DATE\n",
        ");"
      ],
      "metadata": {
        "colab": {
          "base_uri": "https://localhost:8080/"
        },
        "id": "VpWOxP1v6hJ7",
        "outputId": "e93fe455-bb7d-488d-804b-d341a083001b"
      },
      "execution_count": 10,
      "outputs": [
        {
          "output_type": "stream",
          "name": "stdout",
          "text": [
            " * sqlite:///ABC_DATA.db\n",
            "Done.\n"
          ]
        },
        {
          "output_type": "execute_result",
          "data": {
            "text/plain": [
              "[]"
            ]
          },
          "metadata": {},
          "execution_count": 10
        }
      ]
    },
    {
      "cell_type": "code",
      "source": [
        "%%sql INSERT INTO Orders (order_id,customer_id,order_date) VALUES\n",
        "(1, 1, '2023-05-01'),\n",
        "(2, 2, '2023-05-02'),\n",
        "(3, 3, '2023-05-03'),\n",
        "(4, 1, '2023-05-04'),\n",
        "(5, 2, '2023-05-05'),\n",
        "(6, 3, '2023-05-06'),\n",
        "(7, 4, '2023-05-07'),\n",
        "(8, 5, '2023-05-08'),\n",
        "(9, 6, '2023-05-09'),\n",
        "(10, 7, '2023-05-10'),\n",
        "(11, 8, '2023-05-11'),\n",
        "(12, 9, '2023-05-12'),\n",
        "(13, 10, '2023-05-13'),\n",
        "(14, 11, '2023-05-14'),\n",
        "(15, 12, '2023-05-15'),\n",
        "(16, 13, '2023-05-16');"
      ],
      "metadata": {
        "colab": {
          "base_uri": "https://localhost:8080/"
        },
        "id": "3zLrtqI8vSES",
        "outputId": "8a03bbc0-856b-408f-d293-1aaf40f7b830"
      },
      "execution_count": 11,
      "outputs": [
        {
          "output_type": "stream",
          "name": "stdout",
          "text": [
            " * sqlite:///ABC_DATA.db\n",
            "16 rows affected.\n"
          ]
        },
        {
          "output_type": "execute_result",
          "data": {
            "text/plain": [
              "[]"
            ]
          },
          "metadata": {},
          "execution_count": 11
        }
      ]
    },
    {
      "cell_type": "code",
      "source": [
        "%sql SELECT * FROM Orders;"
      ],
      "metadata": {
        "colab": {
          "base_uri": "https://localhost:8080/",
          "height": 409
        },
        "id": "IVh29QBLwda6",
        "outputId": "7865e3ab-cb20-4868-997f-fc021779e4d1"
      },
      "execution_count": 12,
      "outputs": [
        {
          "output_type": "stream",
          "name": "stdout",
          "text": [
            " * sqlite:///ABC_DATA.db\n",
            "Done.\n"
          ]
        },
        {
          "output_type": "execute_result",
          "data": {
            "text/plain": [
              "[(1, 1, '2023-05-01'),\n",
              " (2, 2, '2023-05-02'),\n",
              " (3, 3, '2023-05-03'),\n",
              " (4, 1, '2023-05-04'),\n",
              " (5, 2, '2023-05-05'),\n",
              " (6, 3, '2023-05-06'),\n",
              " (7, 4, '2023-05-07'),\n",
              " (8, 5, '2023-05-08'),\n",
              " (9, 6, '2023-05-09'),\n",
              " (10, 7, '2023-05-10'),\n",
              " (11, 8, '2023-05-11'),\n",
              " (12, 9, '2023-05-12'),\n",
              " (13, 10, '2023-05-13'),\n",
              " (14, 11, '2023-05-14'),\n",
              " (15, 12, '2023-05-15'),\n",
              " (16, 13, '2023-05-16')]"
            ],
            "text/html": [
              "<table>\n",
              "    <thead>\n",
              "        <tr>\n",
              "            <th>order_id</th>\n",
              "            <th>customer_id</th>\n",
              "            <th>order_date</th>\n",
              "        </tr>\n",
              "    </thead>\n",
              "    <tbody>\n",
              "        <tr>\n",
              "            <td>1</td>\n",
              "            <td>1</td>\n",
              "            <td>2023-05-01</td>\n",
              "        </tr>\n",
              "        <tr>\n",
              "            <td>2</td>\n",
              "            <td>2</td>\n",
              "            <td>2023-05-02</td>\n",
              "        </tr>\n",
              "        <tr>\n",
              "            <td>3</td>\n",
              "            <td>3</td>\n",
              "            <td>2023-05-03</td>\n",
              "        </tr>\n",
              "        <tr>\n",
              "            <td>4</td>\n",
              "            <td>1</td>\n",
              "            <td>2023-05-04</td>\n",
              "        </tr>\n",
              "        <tr>\n",
              "            <td>5</td>\n",
              "            <td>2</td>\n",
              "            <td>2023-05-05</td>\n",
              "        </tr>\n",
              "        <tr>\n",
              "            <td>6</td>\n",
              "            <td>3</td>\n",
              "            <td>2023-05-06</td>\n",
              "        </tr>\n",
              "        <tr>\n",
              "            <td>7</td>\n",
              "            <td>4</td>\n",
              "            <td>2023-05-07</td>\n",
              "        </tr>\n",
              "        <tr>\n",
              "            <td>8</td>\n",
              "            <td>5</td>\n",
              "            <td>2023-05-08</td>\n",
              "        </tr>\n",
              "        <tr>\n",
              "            <td>9</td>\n",
              "            <td>6</td>\n",
              "            <td>2023-05-09</td>\n",
              "        </tr>\n",
              "        <tr>\n",
              "            <td>10</td>\n",
              "            <td>7</td>\n",
              "            <td>2023-05-10</td>\n",
              "        </tr>\n",
              "        <tr>\n",
              "            <td>11</td>\n",
              "            <td>8</td>\n",
              "            <td>2023-05-11</td>\n",
              "        </tr>\n",
              "        <tr>\n",
              "            <td>12</td>\n",
              "            <td>9</td>\n",
              "            <td>2023-05-12</td>\n",
              "        </tr>\n",
              "        <tr>\n",
              "            <td>13</td>\n",
              "            <td>10</td>\n",
              "            <td>2023-05-13</td>\n",
              "        </tr>\n",
              "        <tr>\n",
              "            <td>14</td>\n",
              "            <td>11</td>\n",
              "            <td>2023-05-14</td>\n",
              "        </tr>\n",
              "        <tr>\n",
              "            <td>15</td>\n",
              "            <td>12</td>\n",
              "            <td>2023-05-15</td>\n",
              "        </tr>\n",
              "        <tr>\n",
              "            <td>16</td>\n",
              "            <td>13</td>\n",
              "            <td>2023-05-16</td>\n",
              "        </tr>\n",
              "    </tbody>\n",
              "</table>"
            ]
          },
          "metadata": {},
          "execution_count": 12
        }
      ]
    },
    {
      "cell_type": "code",
      "source": [
        "%%sql CREATE TABLE Order_items(\n",
        "    order_id INT,\n",
        "    product_id INT,\n",
        "    quantity INT\n",
        ");"
      ],
      "metadata": {
        "colab": {
          "base_uri": "https://localhost:8080/"
        },
        "id": "0e-iNznk7DLT",
        "outputId": "348cd3e3-f8c9-4c97-e677-6f2aa48c93fa"
      },
      "execution_count": 13,
      "outputs": [
        {
          "output_type": "stream",
          "name": "stdout",
          "text": [
            " * sqlite:///ABC_DATA.db\n",
            "Done.\n"
          ]
        },
        {
          "output_type": "execute_result",
          "data": {
            "text/plain": [
              "[]"
            ]
          },
          "metadata": {},
          "execution_count": 13
        }
      ]
    },
    {
      "cell_type": "code",
      "source": [
        "%%sql INSERT INTO Order_items (order_id,product_id,quantity) VALUES\n",
        "(1, 1, 2),\n",
        "(1, 2, 1),\n",
        "(2, 2, 1),\n",
        "(2, 3, 3),\n",
        "(3, 1, 1),\n",
        "(3, 3, 2),\n",
        "(4, 2, 4),\n",
        "(4, 3, 1),\n",
        "(5, 1, 1),\n",
        "(5, 3, 2),\n",
        "(6, 2, 3),\n",
        "(6, 1, 1),\n",
        "(7, 4, 1),\n",
        "(7, 5, 2),\n",
        "(8, 6, 3),\n",
        "(8, 7, 1),\n",
        "(9, 8, 2),\n",
        "(9, 9, 1),\n",
        "(10, 10, 3),\n",
        "(10, 11, 2),\n",
        "(11, 12, 1),\n",
        "(11, 13, 3),\n",
        "(12, 4, 2),\n",
        "(12, 5, 1),\n",
        "(13, 6, 3),\n",
        "(13, 7, 2),\n",
        "(14, 8, 1),\n",
        "(14, 9, 2),\n",
        "(15, 10, 3),\n",
        "(15, 11, 1),\n",
        "(16, 12, 2),\n",
        "(16, 13, 3);"
      ],
      "metadata": {
        "colab": {
          "base_uri": "https://localhost:8080/"
        },
        "id": "ZopSxDZCxSGP",
        "outputId": "72d8b2dc-d297-4e59-e07a-941377b09499"
      },
      "execution_count": 14,
      "outputs": [
        {
          "output_type": "stream",
          "name": "stdout",
          "text": [
            " * sqlite:///ABC_DATA.db\n",
            "32 rows affected.\n"
          ]
        },
        {
          "output_type": "execute_result",
          "data": {
            "text/plain": [
              "[]"
            ]
          },
          "metadata": {},
          "execution_count": 14
        }
      ]
    },
    {
      "cell_type": "code",
      "source": [
        "%sql SELECT * FROM Order_items;"
      ],
      "metadata": {
        "id": "2FzWu79v1Sky",
        "outputId": "e5947645-3cba-4ab5-8616-4c8ddf06dbdf",
        "colab": {
          "base_uri": "https://localhost:8080/",
          "height": 745
        }
      },
      "execution_count": 15,
      "outputs": [
        {
          "output_type": "stream",
          "name": "stdout",
          "text": [
            " * sqlite:///ABC_DATA.db\n",
            "Done.\n"
          ]
        },
        {
          "output_type": "execute_result",
          "data": {
            "text/plain": [
              "[(1, 1, 2),\n",
              " (1, 2, 1),\n",
              " (2, 2, 1),\n",
              " (2, 3, 3),\n",
              " (3, 1, 1),\n",
              " (3, 3, 2),\n",
              " (4, 2, 4),\n",
              " (4, 3, 1),\n",
              " (5, 1, 1),\n",
              " (5, 3, 2),\n",
              " (6, 2, 3),\n",
              " (6, 1, 1),\n",
              " (7, 4, 1),\n",
              " (7, 5, 2),\n",
              " (8, 6, 3),\n",
              " (8, 7, 1),\n",
              " (9, 8, 2),\n",
              " (9, 9, 1),\n",
              " (10, 10, 3),\n",
              " (10, 11, 2),\n",
              " (11, 12, 1),\n",
              " (11, 13, 3),\n",
              " (12, 4, 2),\n",
              " (12, 5, 1),\n",
              " (13, 6, 3),\n",
              " (13, 7, 2),\n",
              " (14, 8, 1),\n",
              " (14, 9, 2),\n",
              " (15, 10, 3),\n",
              " (15, 11, 1),\n",
              " (16, 12, 2),\n",
              " (16, 13, 3)]"
            ],
            "text/html": [
              "<table>\n",
              "    <thead>\n",
              "        <tr>\n",
              "            <th>order_id</th>\n",
              "            <th>product_id</th>\n",
              "            <th>quantity</th>\n",
              "        </tr>\n",
              "    </thead>\n",
              "    <tbody>\n",
              "        <tr>\n",
              "            <td>1</td>\n",
              "            <td>1</td>\n",
              "            <td>2</td>\n",
              "        </tr>\n",
              "        <tr>\n",
              "            <td>1</td>\n",
              "            <td>2</td>\n",
              "            <td>1</td>\n",
              "        </tr>\n",
              "        <tr>\n",
              "            <td>2</td>\n",
              "            <td>2</td>\n",
              "            <td>1</td>\n",
              "        </tr>\n",
              "        <tr>\n",
              "            <td>2</td>\n",
              "            <td>3</td>\n",
              "            <td>3</td>\n",
              "        </tr>\n",
              "        <tr>\n",
              "            <td>3</td>\n",
              "            <td>1</td>\n",
              "            <td>1</td>\n",
              "        </tr>\n",
              "        <tr>\n",
              "            <td>3</td>\n",
              "            <td>3</td>\n",
              "            <td>2</td>\n",
              "        </tr>\n",
              "        <tr>\n",
              "            <td>4</td>\n",
              "            <td>2</td>\n",
              "            <td>4</td>\n",
              "        </tr>\n",
              "        <tr>\n",
              "            <td>4</td>\n",
              "            <td>3</td>\n",
              "            <td>1</td>\n",
              "        </tr>\n",
              "        <tr>\n",
              "            <td>5</td>\n",
              "            <td>1</td>\n",
              "            <td>1</td>\n",
              "        </tr>\n",
              "        <tr>\n",
              "            <td>5</td>\n",
              "            <td>3</td>\n",
              "            <td>2</td>\n",
              "        </tr>\n",
              "        <tr>\n",
              "            <td>6</td>\n",
              "            <td>2</td>\n",
              "            <td>3</td>\n",
              "        </tr>\n",
              "        <tr>\n",
              "            <td>6</td>\n",
              "            <td>1</td>\n",
              "            <td>1</td>\n",
              "        </tr>\n",
              "        <tr>\n",
              "            <td>7</td>\n",
              "            <td>4</td>\n",
              "            <td>1</td>\n",
              "        </tr>\n",
              "        <tr>\n",
              "            <td>7</td>\n",
              "            <td>5</td>\n",
              "            <td>2</td>\n",
              "        </tr>\n",
              "        <tr>\n",
              "            <td>8</td>\n",
              "            <td>6</td>\n",
              "            <td>3</td>\n",
              "        </tr>\n",
              "        <tr>\n",
              "            <td>8</td>\n",
              "            <td>7</td>\n",
              "            <td>1</td>\n",
              "        </tr>\n",
              "        <tr>\n",
              "            <td>9</td>\n",
              "            <td>8</td>\n",
              "            <td>2</td>\n",
              "        </tr>\n",
              "        <tr>\n",
              "            <td>9</td>\n",
              "            <td>9</td>\n",
              "            <td>1</td>\n",
              "        </tr>\n",
              "        <tr>\n",
              "            <td>10</td>\n",
              "            <td>10</td>\n",
              "            <td>3</td>\n",
              "        </tr>\n",
              "        <tr>\n",
              "            <td>10</td>\n",
              "            <td>11</td>\n",
              "            <td>2</td>\n",
              "        </tr>\n",
              "        <tr>\n",
              "            <td>11</td>\n",
              "            <td>12</td>\n",
              "            <td>1</td>\n",
              "        </tr>\n",
              "        <tr>\n",
              "            <td>11</td>\n",
              "            <td>13</td>\n",
              "            <td>3</td>\n",
              "        </tr>\n",
              "        <tr>\n",
              "            <td>12</td>\n",
              "            <td>4</td>\n",
              "            <td>2</td>\n",
              "        </tr>\n",
              "        <tr>\n",
              "            <td>12</td>\n",
              "            <td>5</td>\n",
              "            <td>1</td>\n",
              "        </tr>\n",
              "        <tr>\n",
              "            <td>13</td>\n",
              "            <td>6</td>\n",
              "            <td>3</td>\n",
              "        </tr>\n",
              "        <tr>\n",
              "            <td>13</td>\n",
              "            <td>7</td>\n",
              "            <td>2</td>\n",
              "        </tr>\n",
              "        <tr>\n",
              "            <td>14</td>\n",
              "            <td>8</td>\n",
              "            <td>1</td>\n",
              "        </tr>\n",
              "        <tr>\n",
              "            <td>14</td>\n",
              "            <td>9</td>\n",
              "            <td>2</td>\n",
              "        </tr>\n",
              "        <tr>\n",
              "            <td>15</td>\n",
              "            <td>10</td>\n",
              "            <td>3</td>\n",
              "        </tr>\n",
              "        <tr>\n",
              "            <td>15</td>\n",
              "            <td>11</td>\n",
              "            <td>1</td>\n",
              "        </tr>\n",
              "        <tr>\n",
              "            <td>16</td>\n",
              "            <td>12</td>\n",
              "            <td>2</td>\n",
              "        </tr>\n",
              "        <tr>\n",
              "            <td>16</td>\n",
              "            <td>13</td>\n",
              "            <td>3</td>\n",
              "        </tr>\n",
              "    </tbody>\n",
              "</table>"
            ]
          },
          "metadata": {},
          "execution_count": 15
        }
      ]
    },
    {
      "cell_type": "code",
      "source": [
        "%sql SELECT name FROM sqlite_master WHERE type=\"table\";"
      ],
      "metadata": {
        "colab": {
          "base_uri": "https://localhost:8080/",
          "height": 158
        },
        "id": "131mUf8RmeX3",
        "outputId": "af2bb49d-2476-41d6-9edb-97782d7f864c"
      },
      "execution_count": 16,
      "outputs": [
        {
          "output_type": "stream",
          "name": "stdout",
          "text": [
            " * sqlite:///ABC_DATA.db\n",
            "Done.\n"
          ]
        },
        {
          "output_type": "execute_result",
          "data": {
            "text/plain": [
              "[('Customers',), ('PRODUCTS',), ('Orders',), ('Order_items',)]"
            ],
            "text/html": [
              "<table>\n",
              "    <thead>\n",
              "        <tr>\n",
              "            <th>name</th>\n",
              "        </tr>\n",
              "    </thead>\n",
              "    <tbody>\n",
              "        <tr>\n",
              "            <td>Customers</td>\n",
              "        </tr>\n",
              "        <tr>\n",
              "            <td>PRODUCTS</td>\n",
              "        </tr>\n",
              "        <tr>\n",
              "            <td>Orders</td>\n",
              "        </tr>\n",
              "        <tr>\n",
              "            <td>Order_items</td>\n",
              "        </tr>\n",
              "    </tbody>\n",
              "</table>"
            ]
          },
          "metadata": {},
          "execution_count": 16
        }
      ]
    },
    {
      "cell_type": "code",
      "source": [
        "%sql SELECT * FROM PRODUCTS WHERE price=(SELECT Max(price) FROM PRODUCTS);"
      ],
      "metadata": {
        "colab": {
          "base_uri": "https://localhost:8080/",
          "height": 95
        },
        "id": "kODbRuqY9vwR",
        "outputId": "6b75ada7-cad2-46e7-e5ef-f0377ef0f5e7"
      },
      "execution_count": 17,
      "outputs": [
        {
          "output_type": "stream",
          "name": "stdout",
          "text": [
            " * sqlite:///ABC_DATA.db\n",
            "Done.\n"
          ]
        },
        {
          "output_type": "execute_result",
          "data": {
            "text/plain": [
              "[(13, 'Product M', 70)]"
            ],
            "text/html": [
              "<table>\n",
              "    <thead>\n",
              "        <tr>\n",
              "            <th>product_id</th>\n",
              "            <th>product_name</th>\n",
              "            <th>price</th>\n",
              "        </tr>\n",
              "    </thead>\n",
              "    <tbody>\n",
              "        <tr>\n",
              "            <td>13</td>\n",
              "            <td>Product M</td>\n",
              "            <td>70</td>\n",
              "        </tr>\n",
              "    </tbody>\n",
              "</table>"
            ]
          },
          "metadata": {},
          "execution_count": 17
        }
      ]
    },
    {
      "cell_type": "code",
      "source": [
        "%sql SELECT * FROM PRODUCTS ORDER BY price DESC LIMIT 1;"
      ],
      "metadata": {
        "colab": {
          "base_uri": "https://localhost:8080/",
          "height": 95
        },
        "id": "mjm7q7yu-R5z",
        "outputId": "7dfe86ce-646f-4506-f534-eb6067226e67"
      },
      "execution_count": 18,
      "outputs": [
        {
          "output_type": "stream",
          "name": "stdout",
          "text": [
            " * sqlite:///ABC_DATA.db\n",
            "Done.\n"
          ]
        },
        {
          "output_type": "execute_result",
          "data": {
            "text/plain": [
              "[(13, 'Product M', 70)]"
            ],
            "text/html": [
              "<table>\n",
              "    <thead>\n",
              "        <tr>\n",
              "            <th>product_id</th>\n",
              "            <th>product_name</th>\n",
              "            <th>price</th>\n",
              "        </tr>\n",
              "    </thead>\n",
              "    <tbody>\n",
              "        <tr>\n",
              "            <td>13</td>\n",
              "            <td>Product M</td>\n",
              "            <td>70</td>\n",
              "        </tr>\n",
              "    </tbody>\n",
              "</table>"
            ]
          },
          "metadata": {},
          "execution_count": 18
        }
      ]
    },
    {
      "cell_type": "code",
      "source": [
        "%sql SELECT order_id, quantity FROM Order_items ORDER BY quantity DESC LIMIT 1;"
      ],
      "metadata": {
        "colab": {
          "base_uri": "https://localhost:8080/",
          "height": 95
        },
        "id": "cQn1VwXj_Dso",
        "outputId": "b7429b65-6610-4301-bf02-509411b492d7"
      },
      "execution_count": 19,
      "outputs": [
        {
          "output_type": "stream",
          "name": "stdout",
          "text": [
            " * sqlite:///ABC_DATA.db\n",
            "Done.\n"
          ]
        },
        {
          "output_type": "execute_result",
          "data": {
            "text/plain": [
              "[(4, 4)]"
            ],
            "text/html": [
              "<table>\n",
              "    <thead>\n",
              "        <tr>\n",
              "            <th>order_id</th>\n",
              "            <th>quantity</th>\n",
              "        </tr>\n",
              "    </thead>\n",
              "    <tbody>\n",
              "        <tr>\n",
              "            <td>4</td>\n",
              "            <td>4</td>\n",
              "        </tr>\n",
              "    </tbody>\n",
              "</table>"
            ]
          },
          "metadata": {},
          "execution_count": 19
        }
      ]
    },
    {
      "cell_type": "code",
      "source": [
        "%%sql SELECT order_id\n",
        "FROM Order_items\n",
        "GROUP BY quantity\n",
        "ORDER BY order_id DESC\n",
        "LIMIT 1;"
      ],
      "metadata": {
        "colab": {
          "base_uri": "https://localhost:8080/",
          "height": 95
        },
        "id": "5q8LM4rp_hsa",
        "outputId": "6be74740-518b-43d1-f08c-5d43b46ab939"
      },
      "execution_count": 20,
      "outputs": [
        {
          "output_type": "stream",
          "name": "stdout",
          "text": [
            " * sqlite:///ABC_DATA.db\n",
            "Done.\n"
          ]
        },
        {
          "output_type": "execute_result",
          "data": {
            "text/plain": [
              "[(4,)]"
            ],
            "text/html": [
              "<table>\n",
              "    <thead>\n",
              "        <tr>\n",
              "            <th>order_id</th>\n",
              "        </tr>\n",
              "    </thead>\n",
              "    <tbody>\n",
              "        <tr>\n",
              "            <td>4</td>\n",
              "        </tr>\n",
              "    </tbody>\n",
              "</table>"
            ]
          },
          "metadata": {},
          "execution_count": 20
        }
      ]
    },
    {
      "cell_type": "code",
      "source": [
        "%%sql SELECT order_id\n",
        "FROM Order_items\n",
        "GROUP BY order_id\n",
        "ORDER BY quantity DESC\n",
        "LIMIT 1;"
      ],
      "metadata": {
        "colab": {
          "base_uri": "https://localhost:8080/",
          "height": 95
        },
        "id": "KI4Q1_t3AA4b",
        "outputId": "ca70825e-cf6b-410d-a035-9ee0c7c4430f"
      },
      "execution_count": 21,
      "outputs": [
        {
          "output_type": "stream",
          "name": "stdout",
          "text": [
            " * sqlite:///ABC_DATA.db\n",
            "Done.\n"
          ]
        },
        {
          "output_type": "execute_result",
          "data": {
            "text/plain": [
              "[(4,)]"
            ],
            "text/html": [
              "<table>\n",
              "    <thead>\n",
              "        <tr>\n",
              "            <th>order_id</th>\n",
              "        </tr>\n",
              "    </thead>\n",
              "    <tbody>\n",
              "        <tr>\n",
              "            <td>4</td>\n",
              "        </tr>\n",
              "    </tbody>\n",
              "</table>"
            ]
          },
          "metadata": {},
          "execution_count": 21
        }
      ]
    },
    {
      "cell_type": "code",
      "source": [
        "%sql SELECT COUNT(quantity) FROM Order_items;"
      ],
      "metadata": {
        "colab": {
          "base_uri": "https://localhost:8080/",
          "height": 95
        },
        "id": "NpRY5N59Bl9r",
        "outputId": "9a547231-e340-46ca-94e7-b4533a0c24eb"
      },
      "execution_count": 22,
      "outputs": [
        {
          "output_type": "stream",
          "name": "stdout",
          "text": [
            " * sqlite:///ABC_DATA.db\n",
            "Done.\n"
          ]
        },
        {
          "output_type": "execute_result",
          "data": {
            "text/plain": [
              "[(32,)]"
            ],
            "text/html": [
              "<table>\n",
              "    <thead>\n",
              "        <tr>\n",
              "            <th>COUNT(quantity)</th>\n",
              "        </tr>\n",
              "    </thead>\n",
              "    <tbody>\n",
              "        <tr>\n",
              "            <td>32</td>\n",
              "        </tr>\n",
              "    </tbody>\n",
              "</table>"
            ]
          },
          "metadata": {},
          "execution_count": 22
        }
      ]
    },
    {
      "cell_type": "code",
      "source": [
        "%%sql WITH order_counts AS (SELECT customer_id, COUNT(order_id) AS order_count\n",
        "    FROM Orders\n",
        "    GROUP BY customer_id),\n",
        "max_order_count AS (\n",
        "    SELECT MAX(order_count) AS max_count\n",
        "    FROM order_counts\n",
        ")\n",
        "SELECT c.first_name, c.last_name\n",
        "FROM Customers c\n",
        "JOIN order_counts oc ON c.customer_id = oc.customer_id\n",
        "JOIN max_order_count moc ON oc.order_count = moc.max_count;"
      ],
      "metadata": {
        "colab": {
          "base_uri": "https://localhost:8080/",
          "height": 137
        },
        "id": "Koaz5-Jg9nOY",
        "outputId": "7e8e83ea-f1d3-4416-9ba3-079b6896b636"
      },
      "execution_count": 23,
      "outputs": [
        {
          "output_type": "stream",
          "name": "stdout",
          "text": [
            " * sqlite:///ABC_DATA.db\n",
            "Done.\n"
          ]
        },
        {
          "output_type": "execute_result",
          "data": {
            "text/plain": [
              "[('John', 'Doe'), ('Jane', 'Smith'), ('Bob', 'Johnson')]"
            ],
            "text/html": [
              "<table>\n",
              "    <thead>\n",
              "        <tr>\n",
              "            <th>first_name</th>\n",
              "            <th>last_name</th>\n",
              "        </tr>\n",
              "    </thead>\n",
              "    <tbody>\n",
              "        <tr>\n",
              "            <td>John</td>\n",
              "            <td>Doe</td>\n",
              "        </tr>\n",
              "        <tr>\n",
              "            <td>Jane</td>\n",
              "            <td>Smith</td>\n",
              "        </tr>\n",
              "        <tr>\n",
              "            <td>Bob</td>\n",
              "            <td>Johnson</td>\n",
              "        </tr>\n",
              "    </tbody>\n",
              "</table>"
            ]
          },
          "metadata": {},
          "execution_count": 23
        }
      ]
    },
    {
      "cell_type": "code",
      "source": [
        "%%sql SELECT p.product_name,\n",
        "       p.price * SUM(oi.quantity) AS total_revenue\n",
        "FROM PRODUCTS p\n",
        "JOIN Order_items oi ON oi.product_id = p.product_id\n",
        "GROUP BY p.product_id, p.product_name\n",
        "ORDER BY total_revenue DESC;"
      ],
      "metadata": {
        "colab": {
          "base_uri": "https://localhost:8080/",
          "height": 347
        },
        "id": "HMmvnugs8L4F",
        "outputId": "7dc9b963-f2d4-4dfd-fb06-a71e126e7c51"
      },
      "execution_count": 36,
      "outputs": [
        {
          "output_type": "stream",
          "name": "stdout",
          "text": [
            " * sqlite:///ABC_DATA.db\n",
            "Done.\n"
          ]
        },
        {
          "output_type": "execute_result",
          "data": {
            "text/plain": [
              "[('Product M', 420),\n",
              " ('Product J', 330),\n",
              " ('Product F', 210),\n",
              " ('Product L', 195),\n",
              " ('Product K', 180),\n",
              " ('Product C', 160),\n",
              " ('Product I', 150),\n",
              " ('Product B', 135),\n",
              " ('Product H', 135),\n",
              " ('Product G', 120),\n",
              " ('Product E', 90),\n",
              " ('Product D', 75),\n",
              " ('Product A', 50)]"
            ],
            "text/html": [
              "<table>\n",
              "    <thead>\n",
              "        <tr>\n",
              "            <th>product_name</th>\n",
              "            <th>total_revenue</th>\n",
              "        </tr>\n",
              "    </thead>\n",
              "    <tbody>\n",
              "        <tr>\n",
              "            <td>Product M</td>\n",
              "            <td>420</td>\n",
              "        </tr>\n",
              "        <tr>\n",
              "            <td>Product J</td>\n",
              "            <td>330</td>\n",
              "        </tr>\n",
              "        <tr>\n",
              "            <td>Product F</td>\n",
              "            <td>210</td>\n",
              "        </tr>\n",
              "        <tr>\n",
              "            <td>Product L</td>\n",
              "            <td>195</td>\n",
              "        </tr>\n",
              "        <tr>\n",
              "            <td>Product K</td>\n",
              "            <td>180</td>\n",
              "        </tr>\n",
              "        <tr>\n",
              "            <td>Product C</td>\n",
              "            <td>160</td>\n",
              "        </tr>\n",
              "        <tr>\n",
              "            <td>Product I</td>\n",
              "            <td>150</td>\n",
              "        </tr>\n",
              "        <tr>\n",
              "            <td>Product B</td>\n",
              "            <td>135</td>\n",
              "        </tr>\n",
              "        <tr>\n",
              "            <td>Product H</td>\n",
              "            <td>135</td>\n",
              "        </tr>\n",
              "        <tr>\n",
              "            <td>Product G</td>\n",
              "            <td>120</td>\n",
              "        </tr>\n",
              "        <tr>\n",
              "            <td>Product E</td>\n",
              "            <td>90</td>\n",
              "        </tr>\n",
              "        <tr>\n",
              "            <td>Product D</td>\n",
              "            <td>75</td>\n",
              "        </tr>\n",
              "        <tr>\n",
              "            <td>Product A</td>\n",
              "            <td>50</td>\n",
              "        </tr>\n",
              "    </tbody>\n",
              "</table>"
            ]
          },
          "metadata": {},
          "execution_count": 36
        }
      ]
    },
    {
      "cell_type": "code",
      "source": [
        "%sql SELECT * FROM Orders;"
      ],
      "metadata": {
        "colab": {
          "base_uri": "https://localhost:8080/",
          "height": 409
        },
        "id": "AFO1iwBJ-Ga4",
        "outputId": "88fc78e4-f8de-4009-afcd-7e3c9fdcd032"
      },
      "execution_count": 43,
      "outputs": [
        {
          "output_type": "stream",
          "name": "stdout",
          "text": [
            " * sqlite:///ABC_DATA.db\n",
            "Done.\n"
          ]
        },
        {
          "output_type": "execute_result",
          "data": {
            "text/plain": [
              "[(1, 1, '2023-05-01'),\n",
              " (2, 2, '2023-05-02'),\n",
              " (3, 3, '2023-05-03'),\n",
              " (4, 1, '2023-05-04'),\n",
              " (5, 2, '2023-05-05'),\n",
              " (6, 3, '2023-05-06'),\n",
              " (7, 4, '2023-05-07'),\n",
              " (8, 5, '2023-05-08'),\n",
              " (9, 6, '2023-05-09'),\n",
              " (10, 7, '2023-05-10'),\n",
              " (11, 8, '2023-05-11'),\n",
              " (12, 9, '2023-05-12'),\n",
              " (13, 10, '2023-05-13'),\n",
              " (14, 11, '2023-05-14'),\n",
              " (15, 12, '2023-05-15'),\n",
              " (16, 13, '2023-05-16')]"
            ],
            "text/html": [
              "<table>\n",
              "    <thead>\n",
              "        <tr>\n",
              "            <th>order_id</th>\n",
              "            <th>customer_id</th>\n",
              "            <th>order_date</th>\n",
              "        </tr>\n",
              "    </thead>\n",
              "    <tbody>\n",
              "        <tr>\n",
              "            <td>1</td>\n",
              "            <td>1</td>\n",
              "            <td>2023-05-01</td>\n",
              "        </tr>\n",
              "        <tr>\n",
              "            <td>2</td>\n",
              "            <td>2</td>\n",
              "            <td>2023-05-02</td>\n",
              "        </tr>\n",
              "        <tr>\n",
              "            <td>3</td>\n",
              "            <td>3</td>\n",
              "            <td>2023-05-03</td>\n",
              "        </tr>\n",
              "        <tr>\n",
              "            <td>4</td>\n",
              "            <td>1</td>\n",
              "            <td>2023-05-04</td>\n",
              "        </tr>\n",
              "        <tr>\n",
              "            <td>5</td>\n",
              "            <td>2</td>\n",
              "            <td>2023-05-05</td>\n",
              "        </tr>\n",
              "        <tr>\n",
              "            <td>6</td>\n",
              "            <td>3</td>\n",
              "            <td>2023-05-06</td>\n",
              "        </tr>\n",
              "        <tr>\n",
              "            <td>7</td>\n",
              "            <td>4</td>\n",
              "            <td>2023-05-07</td>\n",
              "        </tr>\n",
              "        <tr>\n",
              "            <td>8</td>\n",
              "            <td>5</td>\n",
              "            <td>2023-05-08</td>\n",
              "        </tr>\n",
              "        <tr>\n",
              "            <td>9</td>\n",
              "            <td>6</td>\n",
              "            <td>2023-05-09</td>\n",
              "        </tr>\n",
              "        <tr>\n",
              "            <td>10</td>\n",
              "            <td>7</td>\n",
              "            <td>2023-05-10</td>\n",
              "        </tr>\n",
              "        <tr>\n",
              "            <td>11</td>\n",
              "            <td>8</td>\n",
              "            <td>2023-05-11</td>\n",
              "        </tr>\n",
              "        <tr>\n",
              "            <td>12</td>\n",
              "            <td>9</td>\n",
              "            <td>2023-05-12</td>\n",
              "        </tr>\n",
              "        <tr>\n",
              "            <td>13</td>\n",
              "            <td>10</td>\n",
              "            <td>2023-05-13</td>\n",
              "        </tr>\n",
              "        <tr>\n",
              "            <td>14</td>\n",
              "            <td>11</td>\n",
              "            <td>2023-05-14</td>\n",
              "        </tr>\n",
              "        <tr>\n",
              "            <td>15</td>\n",
              "            <td>12</td>\n",
              "            <td>2023-05-15</td>\n",
              "        </tr>\n",
              "        <tr>\n",
              "            <td>16</td>\n",
              "            <td>13</td>\n",
              "            <td>2023-05-16</td>\n",
              "        </tr>\n",
              "    </tbody>\n",
              "</table>"
            ]
          },
          "metadata": {},
          "execution_count": 43
        }
      ]
    },
    {
      "cell_type": "code",
      "source": [
        "%sql SELECT * FROM Customers;"
      ],
      "metadata": {
        "colab": {
          "base_uri": "https://localhost:8080/",
          "height": 347
        },
        "id": "jJVjYc6y_WnI",
        "outputId": "da073412-98ea-41ac-b489-92bc20d83c57"
      },
      "execution_count": 50,
      "outputs": [
        {
          "output_type": "stream",
          "name": "stdout",
          "text": [
            " * sqlite:///ABC_DATA.db\n",
            "Done.\n"
          ]
        },
        {
          "output_type": "execute_result",
          "data": {
            "text/plain": [
              "[(1, 'John', 'Doe', 'johndoe@email.com'),\n",
              " (2, 'Jane', 'Smith', 'janesmith@email.com'),\n",
              " (3, 'Bob', 'Johnson', 'bobjohnson@email.com'),\n",
              " (4, 'Alice', 'Brown', 'alicebrown@email.com'),\n",
              " (5, 'Charlie', 'Davis', 'charliedavis@email.com'),\n",
              " (6, 'Eva', 'Fisher', 'evafisher@email.com'),\n",
              " (7, 'George', 'Harris', 'georgeharris@email.com'),\n",
              " (8, 'Ivy', 'Jones', 'ivyjones@email.com'),\n",
              " (9, 'Kevin', 'Miller', 'kevinmiller@email.com'),\n",
              " (10, 'Lily', 'Nelson', 'lilynelson@email.com'),\n",
              " (11, 'Oliver', 'Patterson', 'oliverpatterson@email.com'),\n",
              " (12, 'Quinn', 'Roberts', 'quinnroberts@email.com'),\n",
              " (13, 'Sophia', 'Thomas', 'sophiathomas@email.com')]"
            ],
            "text/html": [
              "<table>\n",
              "    <thead>\n",
              "        <tr>\n",
              "            <th>customer_id</th>\n",
              "            <th>first_name</th>\n",
              "            <th>last_name</th>\n",
              "            <th>email</th>\n",
              "        </tr>\n",
              "    </thead>\n",
              "    <tbody>\n",
              "        <tr>\n",
              "            <td>1</td>\n",
              "            <td>John</td>\n",
              "            <td>Doe</td>\n",
              "            <td>johndoe@email.com</td>\n",
              "        </tr>\n",
              "        <tr>\n",
              "            <td>2</td>\n",
              "            <td>Jane</td>\n",
              "            <td>Smith</td>\n",
              "            <td>janesmith@email.com</td>\n",
              "        </tr>\n",
              "        <tr>\n",
              "            <td>3</td>\n",
              "            <td>Bob</td>\n",
              "            <td>Johnson</td>\n",
              "            <td>bobjohnson@email.com</td>\n",
              "        </tr>\n",
              "        <tr>\n",
              "            <td>4</td>\n",
              "            <td>Alice</td>\n",
              "            <td>Brown</td>\n",
              "            <td>alicebrown@email.com</td>\n",
              "        </tr>\n",
              "        <tr>\n",
              "            <td>5</td>\n",
              "            <td>Charlie</td>\n",
              "            <td>Davis</td>\n",
              "            <td>charliedavis@email.com</td>\n",
              "        </tr>\n",
              "        <tr>\n",
              "            <td>6</td>\n",
              "            <td>Eva</td>\n",
              "            <td>Fisher</td>\n",
              "            <td>evafisher@email.com</td>\n",
              "        </tr>\n",
              "        <tr>\n",
              "            <td>7</td>\n",
              "            <td>George</td>\n",
              "            <td>Harris</td>\n",
              "            <td>georgeharris@email.com</td>\n",
              "        </tr>\n",
              "        <tr>\n",
              "            <td>8</td>\n",
              "            <td>Ivy</td>\n",
              "            <td>Jones</td>\n",
              "            <td>ivyjones@email.com</td>\n",
              "        </tr>\n",
              "        <tr>\n",
              "            <td>9</td>\n",
              "            <td>Kevin</td>\n",
              "            <td>Miller</td>\n",
              "            <td>kevinmiller@email.com</td>\n",
              "        </tr>\n",
              "        <tr>\n",
              "            <td>10</td>\n",
              "            <td>Lily</td>\n",
              "            <td>Nelson</td>\n",
              "            <td>lilynelson@email.com</td>\n",
              "        </tr>\n",
              "        <tr>\n",
              "            <td>11</td>\n",
              "            <td>Oliver</td>\n",
              "            <td>Patterson</td>\n",
              "            <td>oliverpatterson@email.com</td>\n",
              "        </tr>\n",
              "        <tr>\n",
              "            <td>12</td>\n",
              "            <td>Quinn</td>\n",
              "            <td>Roberts</td>\n",
              "            <td>quinnroberts@email.com</td>\n",
              "        </tr>\n",
              "        <tr>\n",
              "            <td>13</td>\n",
              "            <td>Sophia</td>\n",
              "            <td>Thomas</td>\n",
              "            <td>sophiathomas@email.com</td>\n",
              "        </tr>\n",
              "    </tbody>\n",
              "</table>"
            ]
          },
          "metadata": {},
          "execution_count": 50
        }
      ]
    },
    {
      "cell_type": "markdown",
      "source": [
        "Find the first order (by date) for each customer."
      ],
      "metadata": {
        "id": "pR24YhXj_vLu"
      }
    },
    {
      "cell_type": "code",
      "source": [
        "%%sql SELECT\n",
        "    c.customer_id,\n",
        "    c.first_name,\n",
        "    c.last_name,\n",
        "    o.order_id,\n",
        "    o.order_date\n",
        "FROM\n",
        "    customers c\n",
        "JOIN\n",
        "    orders o ON c.customer_id = o.customer_id\n",
        "JOIN\n",
        "    (SELECT\n",
        "        customer_id,\n",
        "        MIN(order_date) AS first_order_date\n",
        "     FROM\n",
        "        orders\n",
        "     GROUP BY\n",
        "        customer_id) first_orders\n",
        "ON\n",
        "    o.customer_id = first_orders.customer_id\n",
        "    AND o.order_date = first_orders.first_order_date;\n"
      ],
      "metadata": {
        "colab": {
          "base_uri": "https://localhost:8080/",
          "height": 347
        },
        "id": "WY26aA2V-ikb",
        "outputId": "0d738aac-9ed8-454e-e4f4-c73c81276e1d"
      },
      "execution_count": 51,
      "outputs": [
        {
          "output_type": "stream",
          "name": "stdout",
          "text": [
            " * sqlite:///ABC_DATA.db\n",
            "Done.\n"
          ]
        },
        {
          "output_type": "execute_result",
          "data": {
            "text/plain": [
              "[(1, 'John', 'Doe', 1, '2023-05-01'),\n",
              " (2, 'Jane', 'Smith', 2, '2023-05-02'),\n",
              " (3, 'Bob', 'Johnson', 3, '2023-05-03'),\n",
              " (4, 'Alice', 'Brown', 7, '2023-05-07'),\n",
              " (5, 'Charlie', 'Davis', 8, '2023-05-08'),\n",
              " (6, 'Eva', 'Fisher', 9, '2023-05-09'),\n",
              " (7, 'George', 'Harris', 10, '2023-05-10'),\n",
              " (8, 'Ivy', 'Jones', 11, '2023-05-11'),\n",
              " (9, 'Kevin', 'Miller', 12, '2023-05-12'),\n",
              " (10, 'Lily', 'Nelson', 13, '2023-05-13'),\n",
              " (11, 'Oliver', 'Patterson', 14, '2023-05-14'),\n",
              " (12, 'Quinn', 'Roberts', 15, '2023-05-15'),\n",
              " (13, 'Sophia', 'Thomas', 16, '2023-05-16')]"
            ],
            "text/html": [
              "<table>\n",
              "    <thead>\n",
              "        <tr>\n",
              "            <th>customer_id</th>\n",
              "            <th>first_name</th>\n",
              "            <th>last_name</th>\n",
              "            <th>order_id</th>\n",
              "            <th>order_date</th>\n",
              "        </tr>\n",
              "    </thead>\n",
              "    <tbody>\n",
              "        <tr>\n",
              "            <td>1</td>\n",
              "            <td>John</td>\n",
              "            <td>Doe</td>\n",
              "            <td>1</td>\n",
              "            <td>2023-05-01</td>\n",
              "        </tr>\n",
              "        <tr>\n",
              "            <td>2</td>\n",
              "            <td>Jane</td>\n",
              "            <td>Smith</td>\n",
              "            <td>2</td>\n",
              "            <td>2023-05-02</td>\n",
              "        </tr>\n",
              "        <tr>\n",
              "            <td>3</td>\n",
              "            <td>Bob</td>\n",
              "            <td>Johnson</td>\n",
              "            <td>3</td>\n",
              "            <td>2023-05-03</td>\n",
              "        </tr>\n",
              "        <tr>\n",
              "            <td>4</td>\n",
              "            <td>Alice</td>\n",
              "            <td>Brown</td>\n",
              "            <td>7</td>\n",
              "            <td>2023-05-07</td>\n",
              "        </tr>\n",
              "        <tr>\n",
              "            <td>5</td>\n",
              "            <td>Charlie</td>\n",
              "            <td>Davis</td>\n",
              "            <td>8</td>\n",
              "            <td>2023-05-08</td>\n",
              "        </tr>\n",
              "        <tr>\n",
              "            <td>6</td>\n",
              "            <td>Eva</td>\n",
              "            <td>Fisher</td>\n",
              "            <td>9</td>\n",
              "            <td>2023-05-09</td>\n",
              "        </tr>\n",
              "        <tr>\n",
              "            <td>7</td>\n",
              "            <td>George</td>\n",
              "            <td>Harris</td>\n",
              "            <td>10</td>\n",
              "            <td>2023-05-10</td>\n",
              "        </tr>\n",
              "        <tr>\n",
              "            <td>8</td>\n",
              "            <td>Ivy</td>\n",
              "            <td>Jones</td>\n",
              "            <td>11</td>\n",
              "            <td>2023-05-11</td>\n",
              "        </tr>\n",
              "        <tr>\n",
              "            <td>9</td>\n",
              "            <td>Kevin</td>\n",
              "            <td>Miller</td>\n",
              "            <td>12</td>\n",
              "            <td>2023-05-12</td>\n",
              "        </tr>\n",
              "        <tr>\n",
              "            <td>10</td>\n",
              "            <td>Lily</td>\n",
              "            <td>Nelson</td>\n",
              "            <td>13</td>\n",
              "            <td>2023-05-13</td>\n",
              "        </tr>\n",
              "        <tr>\n",
              "            <td>11</td>\n",
              "            <td>Oliver</td>\n",
              "            <td>Patterson</td>\n",
              "            <td>14</td>\n",
              "            <td>2023-05-14</td>\n",
              "        </tr>\n",
              "        <tr>\n",
              "            <td>12</td>\n",
              "            <td>Quinn</td>\n",
              "            <td>Roberts</td>\n",
              "            <td>15</td>\n",
              "            <td>2023-05-15</td>\n",
              "        </tr>\n",
              "        <tr>\n",
              "            <td>13</td>\n",
              "            <td>Sophia</td>\n",
              "            <td>Thomas</td>\n",
              "            <td>16</td>\n",
              "            <td>2023-05-16</td>\n",
              "        </tr>\n",
              "    </tbody>\n",
              "</table>"
            ]
          },
          "metadata": {},
          "execution_count": 51
        }
      ]
    },
    {
      "cell_type": "markdown",
      "source": [
        "What’s the total revenue per product?"
      ],
      "metadata": {
        "id": "-sB5ck5zADUe"
      }
    },
    {
      "cell_type": "code",
      "source": [
        "%%sql SELECT\n",
        "    p.product_id,\n",
        "    p.product_name,\n",
        "    SUM(p.price * oi.quantity) AS total_revenue\n",
        "FROM\n",
        "    products p\n",
        "JOIN\n",
        "    order_items oi ON p.product_id = oi.product_id\n",
        "GROUP BY\n",
        "    p.product_id, p.product_name\n",
        "ORDER BY\n",
        "    total_revenue ASC;"
      ],
      "metadata": {
        "colab": {
          "base_uri": "https://localhost:8080/",
          "height": 347
        },
        "id": "tiC6c1u-AC0X",
        "outputId": "373f6fd0-aed8-4651-82bd-18e282a6af4f"
      },
      "execution_count": 55,
      "outputs": [
        {
          "output_type": "stream",
          "name": "stdout",
          "text": [
            " * sqlite:///ABC_DATA.db\n",
            "Done.\n"
          ]
        },
        {
          "output_type": "execute_result",
          "data": {
            "text/plain": [
              "[(1, 'Product A', 50),\n",
              " (4, 'Product D', 75),\n",
              " (5, 'Product E', 90),\n",
              " (7, 'Product G', 120),\n",
              " (2, 'Product B', 135),\n",
              " (8, 'Product H', 135),\n",
              " (9, 'Product I', 150),\n",
              " (3, 'Product C', 160),\n",
              " (11, 'Product K', 180),\n",
              " (12, 'Product L', 195),\n",
              " (6, 'Product F', 210),\n",
              " (10, 'Product J', 330),\n",
              " (13, 'Product M', 420)]"
            ],
            "text/html": [
              "<table>\n",
              "    <thead>\n",
              "        <tr>\n",
              "            <th>product_id</th>\n",
              "            <th>product_name</th>\n",
              "            <th>total_revenue</th>\n",
              "        </tr>\n",
              "    </thead>\n",
              "    <tbody>\n",
              "        <tr>\n",
              "            <td>1</td>\n",
              "            <td>Product A</td>\n",
              "            <td>50</td>\n",
              "        </tr>\n",
              "        <tr>\n",
              "            <td>4</td>\n",
              "            <td>Product D</td>\n",
              "            <td>75</td>\n",
              "        </tr>\n",
              "        <tr>\n",
              "            <td>5</td>\n",
              "            <td>Product E</td>\n",
              "            <td>90</td>\n",
              "        </tr>\n",
              "        <tr>\n",
              "            <td>7</td>\n",
              "            <td>Product G</td>\n",
              "            <td>120</td>\n",
              "        </tr>\n",
              "        <tr>\n",
              "            <td>2</td>\n",
              "            <td>Product B</td>\n",
              "            <td>135</td>\n",
              "        </tr>\n",
              "        <tr>\n",
              "            <td>8</td>\n",
              "            <td>Product H</td>\n",
              "            <td>135</td>\n",
              "        </tr>\n",
              "        <tr>\n",
              "            <td>9</td>\n",
              "            <td>Product I</td>\n",
              "            <td>150</td>\n",
              "        </tr>\n",
              "        <tr>\n",
              "            <td>3</td>\n",
              "            <td>Product C</td>\n",
              "            <td>160</td>\n",
              "        </tr>\n",
              "        <tr>\n",
              "            <td>11</td>\n",
              "            <td>Product K</td>\n",
              "            <td>180</td>\n",
              "        </tr>\n",
              "        <tr>\n",
              "            <td>12</td>\n",
              "            <td>Product L</td>\n",
              "            <td>195</td>\n",
              "        </tr>\n",
              "        <tr>\n",
              "            <td>6</td>\n",
              "            <td>Product F</td>\n",
              "            <td>210</td>\n",
              "        </tr>\n",
              "        <tr>\n",
              "            <td>10</td>\n",
              "            <td>Product J</td>\n",
              "            <td>330</td>\n",
              "        </tr>\n",
              "        <tr>\n",
              "            <td>13</td>\n",
              "            <td>Product M</td>\n",
              "            <td>420</td>\n",
              "        </tr>\n",
              "    </tbody>\n",
              "</table>"
            ]
          },
          "metadata": {},
          "execution_count": 55
        }
      ]
    },
    {
      "cell_type": "markdown",
      "source": [
        "Find the day with the highest revenue."
      ],
      "metadata": {
        "id": "cVBQ6DJuAotY"
      }
    },
    {
      "cell_type": "code",
      "source": [
        "%%sql SELECT\n",
        "    order_date,\n",
        "    SUM(p.price * oi.quantity) AS daily_revenue\n",
        "FROM\n",
        "    orders o\n",
        "JOIN\n",
        "    order_items oi ON o.order_id = oi.order_id\n",
        "JOIN\n",
        "    products p ON oi.product_id = p.product_id\n",
        "GROUP BY\n",
        "    order_date\n",
        "ORDER BY\n",
        "    daily_revenue DESC\n",
        "LIMIT 1;"
      ],
      "metadata": {
        "colab": {
          "base_uri": "https://localhost:8080/",
          "height": 95
        },
        "id": "LL6F36lSAjm2",
        "outputId": "6df251b9-fc6b-4f9e-e1bd-70bc39877247"
      },
      "execution_count": 59,
      "outputs": [
        {
          "output_type": "stream",
          "name": "stdout",
          "text": [
            " * sqlite:///ABC_DATA.db\n",
            "Done.\n"
          ]
        },
        {
          "output_type": "execute_result",
          "data": {
            "text/plain": [
              "[('2023-05-16', 340)]"
            ],
            "text/html": [
              "<table>\n",
              "    <thead>\n",
              "        <tr>\n",
              "            <th>order_date</th>\n",
              "            <th>daily_revenue</th>\n",
              "        </tr>\n",
              "    </thead>\n",
              "    <tbody>\n",
              "        <tr>\n",
              "            <td>2023-05-16</td>\n",
              "            <td>340</td>\n",
              "        </tr>\n",
              "    </tbody>\n",
              "</table>"
            ]
          },
          "metadata": {},
          "execution_count": 59
        }
      ]
    }
  ]
}