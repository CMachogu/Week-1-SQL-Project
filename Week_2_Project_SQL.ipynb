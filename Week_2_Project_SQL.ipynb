{
  "nbformat": 4,
  "nbformat_minor": 0,
  "metadata": {
    "colab": {
      "provenance": []
    },
    "kernelspec": {
      "name": "python3",
      "display_name": "Python 3"
    },
    "language_info": {
      "name": "python"
    }
  },
  "cells": [
    {
      "cell_type": "code",
      "execution_count": 3,
      "metadata": {
        "id": "IORxO1D7Cu8Z",
        "colab": {
          "base_uri": "https://localhost:8080/"
        },
        "outputId": "eb9e5a9d-255d-4368-a5e0-4d98a6d58c97"
      },
      "outputs": [
        {
          "output_type": "stream",
          "name": "stdout",
          "text": [
            "The sql extension is already loaded. To reload it, use:\n",
            "  %reload_ext sql\n"
          ]
        }
      ],
      "source": [
        "%load_ext sql"
      ]
    },
    {
      "cell_type": "markdown",
      "source": [
        "You are the owner of a Coding School : Named Zindua School and Would like to build a data driven decision making workflow. You are going to query your database to understand the key characteristics of your students.\n",
        "\n",
        "Download the SQL File and runit to create and populate your Database Answer the following questions"
      ],
      "metadata": {
        "id": "c2RSUROVC2aR"
      }
    },
    {
      "cell_type": "code",
      "source": [
        "%sql sqlite:///ZinduaSchoolStudent.db"
      ],
      "metadata": {
        "id": "_sGSt8ulC5Ik"
      },
      "execution_count": 4,
      "outputs": []
    },
    {
      "cell_type": "code",
      "source": [
        "%%sql CREATE TABLE Personal_details (\n",
        "national_ID INTEGER(15) ,\n",
        "stud_ID VARCHAR(15),\n",
        "stud_name VARCHAR(100),\n",
        "phone_number VARCHAR(15),\n",
        "age INTEGER,\n",
        "gender VARCHAR(10),\n",
        "PRIMARY KEY(national_ID)\n",
        ");"
      ],
      "metadata": {
        "colab": {
          "base_uri": "https://localhost:8080/"
        },
        "id": "GbNxQNaiDD5V",
        "outputId": "cfbdfd9c-51f4-4700-f361-090085d8d80b"
      },
      "execution_count": 5,
      "outputs": [
        {
          "output_type": "stream",
          "name": "stdout",
          "text": [
            " * sqlite:///ZinduaSchoolStudent.db\n",
            "Done.\n"
          ]
        },
        {
          "output_type": "execute_result",
          "data": {
            "text/plain": [
              "[]"
            ]
          },
          "metadata": {},
          "execution_count": 5
        }
      ]
    },
    {
      "cell_type": "code",
      "source": [
        "%%sql INSERT INTO personal_details (national_ID,stud_ID,stud_name,phone_number,age,gender)\n",
        "VALUES(\"344534\",\"stud101\",\"Hermione Granger\" ,\"0712345678\",20,\"Male\"),\n",
        "(\"379683\",\"stud102\",\"Draco Malfo\" ,\"0723456781\",21,\"Female\"),\n",
        "(\"347403\",\"stud103\",\"Jayden Wamashati\" ,\"0734567812\",22,\"Male\"),\n",
        "(\"377302\",\"stud104\",\"Ron Weasley\" ,\"0745678123\",19,\"Female\"),\n",
        "(\"336741\",\"stud105\",\"Dolores Umbridge\" ,\"0756781234\",21,\"Male\"),\n",
        "(\"307243\",\"stud106\",\"Hedwig Tonks\" ,\"0767812345\",21,\"Female\"),\n",
        "(\"310932\",\"stud107\",\"Chao Chang\" ,\"0778123456\",22,\"Male\"),\n",
        "(\"343920\",\"stud108\",\"Curfew Yaeitpm\" ,\"0781234567\",20,\"Female\"),\n",
        "(\"345261\",\"stud109\",\"Chaptr Mukenya\" ,\"0722345678\",20,\"Male\"),\n",
        "(\"339152\",\"stud110\",\"Natalie Mpema\" ,\"0733456781\",21,\"Female\"),\n",
        "(\"339746\",\"stud111\",\"Crew Nundi\" ,\"0744567812\",20,\"Male\"),\n",
        "(\"336373\",\"stud112\",\"Bandi Kagunda\" ,\"0755678123\",22,\"Female\"),\n",
        "(\"325252\",\"stud113\",\"Testimony Omolo\" ,\"0766456781\",21,\"Male\"),\n",
        "(\"321746\",\"stud114\",\"Career Mpya\" ,\"0741367812\",20,\"Male\"),\n",
        "(\"390234\",\"stud115\",\"Deamon Anduro\" ,\"0744421123\",22,\"Female\");"
      ],
      "metadata": {
        "colab": {
          "base_uri": "https://localhost:8080/"
        },
        "id": "3gFptPKjDOmk",
        "outputId": "dafed8d4-d20a-4354-f1df-1299e8736bc3"
      },
      "execution_count": 6,
      "outputs": [
        {
          "output_type": "stream",
          "name": "stdout",
          "text": [
            " * sqlite:///ZinduaSchoolStudent.db\n",
            "15 rows affected.\n"
          ]
        },
        {
          "output_type": "execute_result",
          "data": {
            "text/plain": [
              "[]"
            ]
          },
          "metadata": {},
          "execution_count": 6
        }
      ]
    },
    {
      "cell_type": "code",
      "source": [
        "%%sql CREATE TABLE school_details(\n",
        "    stud_ID VARCHAR(15),\n",
        "    current_home_county VARCHAR(20),\n",
        "    secondary_school_county VARCHAR(20),\n",
        "    residence VARCHAR(15),\n",
        "    stud_email VARCHAR(50),\n",
        "    PRIMARY KEY (stud_ID)\n",
        ");"
      ],
      "metadata": {
        "colab": {
          "base_uri": "https://localhost:8080/"
        },
        "id": "KFO8HyNFEd-9",
        "outputId": "4026a063-591a-40e3-c590-3f357a02b999"
      },
      "execution_count": 7,
      "outputs": [
        {
          "output_type": "stream",
          "name": "stdout",
          "text": [
            " * sqlite:///ZinduaSchoolStudent.db\n",
            "Done.\n"
          ]
        },
        {
          "output_type": "execute_result",
          "data": {
            "text/plain": [
              "[]"
            ]
          },
          "metadata": {},
          "execution_count": 7
        }
      ]
    },
    {
      "cell_type": "code",
      "source": [
        "%%sql INSERT INTO school_details(stud_ID)\n",
        "SELECT stud_ID\n",
        "FROM personal_details;"
      ],
      "metadata": {
        "colab": {
          "base_uri": "https://localhost:8080/"
        },
        "id": "usnQWYz0EqZP",
        "outputId": "278118eb-db79-4289-f9d7-e733b16ac8d0"
      },
      "execution_count": 8,
      "outputs": [
        {
          "output_type": "stream",
          "name": "stdout",
          "text": [
            " * sqlite:///ZinduaSchoolStudent.db\n",
            "15 rows affected.\n"
          ]
        },
        {
          "output_type": "execute_result",
          "data": {
            "text/plain": [
              "[]"
            ]
          },
          "metadata": {},
          "execution_count": 8
        }
      ]
    },
    {
      "cell_type": "code",
      "source": [
        "%%sql UPDATE school_details\n",
        "SET stud_email = (\n",
        "    SELECT REPLACE(stud_name, ' ', '') || '@zinduaschool.ac'\n",
        "    FROM personal_details\n",
        "    WHERE school_details.stud_ID = personal_details.stud_ID\n",
        ");"
      ],
      "metadata": {
        "colab": {
          "base_uri": "https://localhost:8080/"
        },
        "id": "xBmmkW6pFg_Y",
        "outputId": "9c947c78-13b3-455d-9f31-ed11d734c8fc"
      },
      "execution_count": 9,
      "outputs": [
        {
          "output_type": "stream",
          "name": "stdout",
          "text": [
            " * sqlite:///ZinduaSchoolStudent.db\n",
            "15 rows affected.\n"
          ]
        },
        {
          "output_type": "execute_result",
          "data": {
            "text/plain": [
              "[]"
            ]
          },
          "metadata": {},
          "execution_count": 9
        }
      ]
    },
    {
      "cell_type": "code",
      "source": [
        "%%sql UPDATE school_details SET current_home_county=\"Nakuru\", secondary_school_county=\"Nairobi\", residence=\"In school\" WHERE stud_ID=\"stud101\";\n",
        "UPDATE school_details SET current_home_county=\"Nairobi\", secondary_school_county=\"Nakuru\", residence=\"In school\" WHERE stud_ID=\"stud102\";\n",
        "UPDATE school_details SET current_home_county=\"Samburu\", secondary_school_county=\"Nairobi\", residence=\"Out of school\" WHERE stud_ID=\"stud103\";\n",
        "UPDATE school_details SET current_home_county=\"Kericho\", secondary_school_county=\"Nairobi\", residence=\"In school\" WHERE stud_ID=\"stud104\";\n",
        "UPDATE school_details SET current_home_county=\"Nyamira\", secondary_school_county=\"Nakuru\", residence=\"In school\" WHERE stud_ID=\"stud105\";\n",
        "UPDATE school_details SET current_home_county=\"Kisumu\", secondary_school_county=\"Nairobi\", residence=\"Out of school\" WHERE stud_ID=\"stud106\";\n",
        "UPDATE school_details SET current_home_county=\"Nakuru\", secondary_school_county=\"Nairobi\", residence=\"Out of school\" WHERE stud_ID=\"stud107\";\n",
        "UPDATE school_details SET current_home_county=\"Kisumu\", secondary_school_county=\"Mombasa\", residence=\"Out of school\" WHERE stud_ID=\"stud108\";\n",
        "UPDATE school_details SET current_home_county=\"Kericho\", secondary_school_county=\"Mombasa\", residence=\"In school\" WHERE stud_ID=\"stud109\";\n",
        "UPDATE school_details SET current_home_county=\"Nakuru\", secondary_school_county=\"Mombasa\", residence=\"In school\" WHERE stud_ID=\"stud110\";\n",
        "UPDATE school_details SET current_home_county=\"Kiambu\", secondary_school_county=\"Turkana\", residence=\"In school\" WHERE stud_ID=\"stud111\";\n",
        "UPDATE school_details SET current_home_county=\"Nairobi\", secondary_school_county=\"Nakuru\", residence=\"In school\" WHERE stud_ID=\"stud112\";\n",
        "UPDATE school_details SET current_home_county=\"Samburu\", secondary_school_county=\"Taita Taveta\", residence=\"In school\" WHERE stud_ID=\"stud113\";\n",
        "UPDATE school_details SET current_home_county=\"Kericho\", secondary_school_county=\"Nairobi\", residence=\"Out of school\" WHERE stud_ID=\"stud114\";\n",
        "UPDATE school_details SET current_home_county=\"Kiambu\", secondary_school_county=\"Mombasa\", residence=\"In school\" WHERE stud_ID=\"stud115\";"
      ],
      "metadata": {
        "colab": {
          "base_uri": "https://localhost:8080/"
        },
        "id": "qXJJQghxGueX",
        "outputId": "d9b30e64-a10b-4beb-be6c-5d4d9a8f1ae1"
      },
      "execution_count": 10,
      "outputs": [
        {
          "output_type": "stream",
          "name": "stdout",
          "text": [
            " * sqlite:///ZinduaSchoolStudent.db\n",
            "1 rows affected.\n",
            "1 rows affected.\n",
            "1 rows affected.\n",
            "1 rows affected.\n",
            "1 rows affected.\n",
            "1 rows affected.\n",
            "1 rows affected.\n",
            "1 rows affected.\n",
            "1 rows affected.\n",
            "1 rows affected.\n",
            "1 rows affected.\n",
            "1 rows affected.\n",
            "1 rows affected.\n",
            "1 rows affected.\n",
            "1 rows affected.\n"
          ]
        },
        {
          "output_type": "execute_result",
          "data": {
            "text/plain": [
              "[]"
            ]
          },
          "metadata": {},
          "execution_count": 10
        }
      ]
    },
    {
      "cell_type": "code",
      "source": [
        "%%sql CREATE TABLE contact_details (\n",
        "    stud_email VARCHAR(50),\n",
        "    phone_number VARCHAR(15),\n",
        "    next_of_kin_name VARCHAR(50),\n",
        "    next_of_kin_relation VARCHAR(10),\n",
        "    next_of_kin_contacts VARCHAR(13),\n",
        "    PRIMARY KEY (stud_email)\n",
        ");"
      ],
      "metadata": {
        "colab": {
          "base_uri": "https://localhost:8080/"
        },
        "id": "n1EFtsuLHFm0",
        "outputId": "b160ef73-a5ee-41a2-cbb0-8d030029e88f"
      },
      "execution_count": 11,
      "outputs": [
        {
          "output_type": "stream",
          "name": "stdout",
          "text": [
            " * sqlite:///ZinduaSchoolStudent.db\n",
            "Done.\n"
          ]
        },
        {
          "output_type": "execute_result",
          "data": {
            "text/plain": [
              "[]"
            ]
          },
          "metadata": {},
          "execution_count": 11
        }
      ]
    },
    {
      "cell_type": "code",
      "source": [
        "%%sql INSERT INTO contact_details(phone_number, next_of_kin_name,next_of_kin_relation,next_of_kin_contacts)\n",
        "VALUES(\"0712345678\",\"Darius Young\",\"Father\",\"0782382383\"),\n",
        "(\"0723456781\",\"Lucy Nderitu\",\"Mother\",\"0723238983\"),\n",
        "(\"0734567812\",\"Jerotich Koech\",\"Mother\",\"0779343126\"),\n",
        "(\"0745678123\",\"Mwaura Mwangi\",\"Father\",\"0798246347\"),\n",
        "(\"0756781234\",\"Ian Patrick\",\"Father\",\"0711234453\"),\n",
        "(\"0767812345\",\"Lebron James\",\"Father\",\"0765439233\"),\n",
        "(\"0778123456\",\"Magna Carter\",\"Father\",\"0702526243\"),\n",
        "(\"0781234567\",\"Cindy Wayne\",\"Mother\",\"0747282839\"),\n",
        "(\"0722345678\",\"Farah Maalim\",\"Mother\",\"0753927482\"),\n",
        "(\"0733456781\",\"Faiba Mbugua\",\"Father\",\"0713245748\"),\n",
        "(\"0744567812\",\"John Doe\",\"Father\",\"0725737383\"),\n",
        "(\"0755678123\",\"Klaus Michealson\",\"Father\",\"0789346276\"),\n",
        "(\"0766456781\",\"Suluhu Amdany\",\"Mother\",\"0785739259\"),\n",
        "(\"0741367812\",\"Daisy Auma\",\"Mother\",\"0791344537\"),\n",
        "(\"0755421123\",\"Getrude Karen\",\"Mother\",\"0765748244\");"
      ],
      "metadata": {
        "colab": {
          "base_uri": "https://localhost:8080/"
        },
        "id": "DPIhuO6LHil6",
        "outputId": "2e306fe7-3ebe-49fd-9aca-8a83017e426c"
      },
      "execution_count": 12,
      "outputs": [
        {
          "output_type": "stream",
          "name": "stdout",
          "text": [
            " * sqlite:///ZinduaSchoolStudent.db\n",
            "15 rows affected.\n"
          ]
        },
        {
          "output_type": "execute_result",
          "data": {
            "text/plain": [
              "[]"
            ]
          },
          "metadata": {},
          "execution_count": 12
        }
      ]
    },
    {
      "cell_type": "code",
      "source": [
        "%%sql UPDATE contact_details\n",
        "SET stud_email = (SELECT school_details.stud_email\n",
        "FROM school_details, personal_details\n",
        "WHERE school_details.stud_ID = personal_details.stud_ID\n",
        "AND personal_details.phone_number = contact_details.phone_number);"
      ],
      "metadata": {
        "colab": {
          "base_uri": "https://localhost:8080/"
        },
        "id": "Ha-T25H3HvlR",
        "outputId": "8a473c49-e43d-47d3-e82f-71485b2acae1"
      },
      "execution_count": 13,
      "outputs": [
        {
          "output_type": "stream",
          "name": "stdout",
          "text": [
            " * sqlite:///ZinduaSchoolStudent.db\n",
            "15 rows affected.\n"
          ]
        },
        {
          "output_type": "execute_result",
          "data": {
            "text/plain": [
              "[]"
            ]
          },
          "metadata": {},
          "execution_count": 13
        }
      ]
    },
    {
      "cell_type": "code",
      "source": [
        "%sql SELECT * FROM contact_details;"
      ],
      "metadata": {
        "colab": {
          "base_uri": "https://localhost:8080/",
          "height": 389
        },
        "id": "YXl_vMYwIGLS",
        "outputId": "cb804e27-d070-4ba8-ad01-713e67e7b2f1"
      },
      "execution_count": 30,
      "outputs": [
        {
          "output_type": "stream",
          "name": "stdout",
          "text": [
            " * sqlite:///ZinduaSchoolStudent.db\n",
            "Done.\n"
          ]
        },
        {
          "output_type": "execute_result",
          "data": {
            "text/plain": [
              "[('HermioneGranger@zinduaschool.ac', '0712345678', 'Darius Young', 'Father', '0782382383'),\n",
              " ('DracoMalfo@zinduaschool.ac', '0723456781', 'Lucy Nderitu', 'Mother', '0723238983'),\n",
              " ('JaydenWamashati@zinduaschool.ac', '0734567812', 'Jerotich Koech', 'Mother', '0779343126'),\n",
              " ('RonWeasley@zinduaschool.ac', '0745678123', 'Mwaura Mwangi', 'Father', '0798246347'),\n",
              " ('DoloresUmbridge@zinduaschool.ac', '0756781234', 'Ian Patrick', 'Father', '0711234453'),\n",
              " ('HedwigTonks@zinduaschool.ac', '0767812345', 'Lebron James', 'Father', '0765439233'),\n",
              " ('ChaoChang@zinduaschool.ac', '0778123456', 'Magna Carter', 'Father', '0702526243'),\n",
              " ('CurfewYaeitpm@zinduaschool.ac', '0781234567', 'Cindy Wayne', 'Mother', '0747282839'),\n",
              " ('ChaptrMukenya@zinduaschool.ac', '0722345678', 'Farah Maalim', 'Mother', '0753927482'),\n",
              " ('NatalieMpema@zinduaschool.ac', '0733456781', 'Faiba Mbugua', 'Father', '0713245748'),\n",
              " ('CrewNundi@zinduaschool.ac', '0744567812', 'John Doe', 'Father', '0725737383'),\n",
              " ('BandiKagunda@zinduaschool.ac', '0755678123', 'Klaus Michealson', 'Father', '0789346276'),\n",
              " ('TestimonyOmolo@zinduaschool.ac', '0766456781', 'Suluhu Amdany', 'Mother', '0785739259'),\n",
              " ('CareerMpya@zinduaschool.ac', '0741367812', 'Daisy Auma', 'Mother', '0791344537'),\n",
              " ('DeamonAnduro@zinduaschool.ac', '0744421123', 'Getrude Karen', 'Mother', '0765748244')]"
            ],
            "text/html": [
              "<table>\n",
              "    <thead>\n",
              "        <tr>\n",
              "            <th>stud_email</th>\n",
              "            <th>phone_number</th>\n",
              "            <th>next_of_kin_name</th>\n",
              "            <th>next_of_kin_relation</th>\n",
              "            <th>next_of_kin_contacts</th>\n",
              "        </tr>\n",
              "    </thead>\n",
              "    <tbody>\n",
              "        <tr>\n",
              "            <td>HermioneGranger@zinduaschool.ac</td>\n",
              "            <td>0712345678</td>\n",
              "            <td>Darius Young</td>\n",
              "            <td>Father</td>\n",
              "            <td>0782382383</td>\n",
              "        </tr>\n",
              "        <tr>\n",
              "            <td>DracoMalfo@zinduaschool.ac</td>\n",
              "            <td>0723456781</td>\n",
              "            <td>Lucy Nderitu</td>\n",
              "            <td>Mother</td>\n",
              "            <td>0723238983</td>\n",
              "        </tr>\n",
              "        <tr>\n",
              "            <td>JaydenWamashati@zinduaschool.ac</td>\n",
              "            <td>0734567812</td>\n",
              "            <td>Jerotich Koech</td>\n",
              "            <td>Mother</td>\n",
              "            <td>0779343126</td>\n",
              "        </tr>\n",
              "        <tr>\n",
              "            <td>RonWeasley@zinduaschool.ac</td>\n",
              "            <td>0745678123</td>\n",
              "            <td>Mwaura Mwangi</td>\n",
              "            <td>Father</td>\n",
              "            <td>0798246347</td>\n",
              "        </tr>\n",
              "        <tr>\n",
              "            <td>DoloresUmbridge@zinduaschool.ac</td>\n",
              "            <td>0756781234</td>\n",
              "            <td>Ian Patrick</td>\n",
              "            <td>Father</td>\n",
              "            <td>0711234453</td>\n",
              "        </tr>\n",
              "        <tr>\n",
              "            <td>HedwigTonks@zinduaschool.ac</td>\n",
              "            <td>0767812345</td>\n",
              "            <td>Lebron James</td>\n",
              "            <td>Father</td>\n",
              "            <td>0765439233</td>\n",
              "        </tr>\n",
              "        <tr>\n",
              "            <td>ChaoChang@zinduaschool.ac</td>\n",
              "            <td>0778123456</td>\n",
              "            <td>Magna Carter</td>\n",
              "            <td>Father</td>\n",
              "            <td>0702526243</td>\n",
              "        </tr>\n",
              "        <tr>\n",
              "            <td>CurfewYaeitpm@zinduaschool.ac</td>\n",
              "            <td>0781234567</td>\n",
              "            <td>Cindy Wayne</td>\n",
              "            <td>Mother</td>\n",
              "            <td>0747282839</td>\n",
              "        </tr>\n",
              "        <tr>\n",
              "            <td>ChaptrMukenya@zinduaschool.ac</td>\n",
              "            <td>0722345678</td>\n",
              "            <td>Farah Maalim</td>\n",
              "            <td>Mother</td>\n",
              "            <td>0753927482</td>\n",
              "        </tr>\n",
              "        <tr>\n",
              "            <td>NatalieMpema@zinduaschool.ac</td>\n",
              "            <td>0733456781</td>\n",
              "            <td>Faiba Mbugua</td>\n",
              "            <td>Father</td>\n",
              "            <td>0713245748</td>\n",
              "        </tr>\n",
              "        <tr>\n",
              "            <td>CrewNundi@zinduaschool.ac</td>\n",
              "            <td>0744567812</td>\n",
              "            <td>John Doe</td>\n",
              "            <td>Father</td>\n",
              "            <td>0725737383</td>\n",
              "        </tr>\n",
              "        <tr>\n",
              "            <td>BandiKagunda@zinduaschool.ac</td>\n",
              "            <td>0755678123</td>\n",
              "            <td>Klaus Michealson</td>\n",
              "            <td>Father</td>\n",
              "            <td>0789346276</td>\n",
              "        </tr>\n",
              "        <tr>\n",
              "            <td>TestimonyOmolo@zinduaschool.ac</td>\n",
              "            <td>0766456781</td>\n",
              "            <td>Suluhu Amdany</td>\n",
              "            <td>Mother</td>\n",
              "            <td>0785739259</td>\n",
              "        </tr>\n",
              "        <tr>\n",
              "            <td>CareerMpya@zinduaschool.ac</td>\n",
              "            <td>0741367812</td>\n",
              "            <td>Daisy Auma</td>\n",
              "            <td>Mother</td>\n",
              "            <td>0791344537</td>\n",
              "        </tr>\n",
              "        <tr>\n",
              "            <td>DeamonAnduro@zinduaschool.ac</td>\n",
              "            <td>0744421123</td>\n",
              "            <td>Getrude Karen</td>\n",
              "            <td>Mother</td>\n",
              "            <td>0765748244</td>\n",
              "        </tr>\n",
              "    </tbody>\n",
              "</table>"
            ]
          },
          "metadata": {},
          "execution_count": 30
        }
      ]
    },
    {
      "cell_type": "code",
      "source": [
        "%sql DELETE FROM contact_details WHERE phone_number = '0755421123' AND next_of_kin_name = 'Getrude Karen';"
      ],
      "metadata": {
        "colab": {
          "base_uri": "https://localhost:8080/"
        },
        "id": "qvkrR1abMKek",
        "outputId": "94a2f032-65d6-4a3c-a725-7511739d1f95"
      },
      "execution_count": 15,
      "outputs": [
        {
          "output_type": "stream",
          "name": "stdout",
          "text": [
            " * sqlite:///ZinduaSchoolStudent.db\n",
            "1 rows affected.\n"
          ]
        },
        {
          "output_type": "execute_result",
          "data": {
            "text/plain": [
              "[]"
            ]
          },
          "metadata": {},
          "execution_count": 15
        }
      ]
    },
    {
      "cell_type": "code",
      "source": [
        "%sql INSERT INTO contact_details VALUES('DeamonAnduro@zinduaschool.ac', '0744421123', 'Getrude Karen', 'Mother', '0765748244');"
      ],
      "metadata": {
        "colab": {
          "base_uri": "https://localhost:8080/"
        },
        "id": "SanCvxMeMtda",
        "outputId": "7755b2a0-9f00-41d4-f9c0-2c7aa0089209"
      },
      "execution_count": 16,
      "outputs": [
        {
          "output_type": "stream",
          "name": "stdout",
          "text": [
            " * sqlite:///ZinduaSchoolStudent.db\n",
            "1 rows affected.\n"
          ]
        },
        {
          "output_type": "execute_result",
          "data": {
            "text/plain": [
              "[]"
            ]
          },
          "metadata": {},
          "execution_count": 16
        }
      ]
    },
    {
      "cell_type": "code",
      "source": [
        "%%sql CREATE TABLE financial_details (\n",
        "    stud_ID VARCHAR(15),\n",
        "    stud_name VARCHAR(50),\n",
        "    sem_fee INTEGER(6),\n",
        "    fee_paid INTEGER(6),\n",
        "    PRIMARY KEY(stud_ID)\n",
        ");"
      ],
      "metadata": {
        "colab": {
          "base_uri": "https://localhost:8080/"
        },
        "id": "FVEBMnqnRkOH",
        "outputId": "1e0e7119-70cf-47d0-8782-392a244428c1"
      },
      "execution_count": 17,
      "outputs": [
        {
          "output_type": "stream",
          "name": "stdout",
          "text": [
            " * sqlite:///ZinduaSchoolStudent.db\n",
            "Done.\n"
          ]
        },
        {
          "output_type": "execute_result",
          "data": {
            "text/plain": [
              "[]"
            ]
          },
          "metadata": {},
          "execution_count": 17
        }
      ]
    },
    {
      "cell_type": "code",
      "source": [
        "%%sql INSERT INTO financial_details(stud_ID,stud_name)\n",
        "SELECT personal_details.stud_ID, personal_details.stud_name\n",
        "FROM personal_details;"
      ],
      "metadata": {
        "colab": {
          "base_uri": "https://localhost:8080/"
        },
        "id": "bFyAbEduTu2U",
        "outputId": "b7015c72-3ae2-4f90-a25f-4af51ec7a081"
      },
      "execution_count": 18,
      "outputs": [
        {
          "output_type": "stream",
          "name": "stdout",
          "text": [
            " * sqlite:///ZinduaSchoolStudent.db\n",
            "15 rows affected.\n"
          ]
        },
        {
          "output_type": "execute_result",
          "data": {
            "text/plain": [
              "[]"
            ]
          },
          "metadata": {},
          "execution_count": 18
        }
      ]
    },
    {
      "cell_type": "code",
      "source": [
        "%%sql UPDATE financial_details SET sem_fee = 25000, fee_paid=25000 WHERE stud_ID = \"stud101\";\n",
        "UPDATE financial_details SET sem_fee= 25000, fee_paid=19000 WHERE stud_ID = \"stud102\";\n",
        "UPDATE financial_details SET sem_fee= 21900, fee_paid=20000 WHERE stud_ID = \"stud103\";\n",
        "UPDATE financial_details SET sem_fee= 22000, fee_paid=22000 WHERE stud_ID = \"stud104\";\n",
        "UPDATE financial_details SET sem_fee= 25000, fee_paid=23400 WHERE stud_ID = \"stud105\";\n",
        "UPDATE financial_details SET sem_fee= 25000, fee_paid=27000 WHERE stud_ID = \"stud106\";\n",
        "UPDATE financial_details SET sem_fee= 24230, fee_paid=21200 WHERE stud_ID = \"stud107\";\n",
        "UPDATE financial_details SET sem_fee= 25000, fee_paid=23500 WHERE stud_ID = \"stud108\";\n",
        "UPDATE financial_details SET sem_fee= 25000, fee_paid=24500 WHERE stud_ID = \"stud109\";\n",
        "UPDATE financial_details SET sem_fee= 25000, fee_paid=25000 WHERE stud_ID = \"stud110\";\n",
        "UPDATE financial_details SET sem_fee= 26000, fee_paid=26000 WHERE stud_ID = \"stud111\";\n",
        "UPDATE financial_details SET sem_fee= 25000, fee_paid=20900 WHERE stud_ID = \"stud112\";\n",
        "UPDATE financial_details SET sem_fee= 25000, fee_paid=22300 WHERE stud_ID = \"stud113\";\n",
        "UPDATE financial_details SET sem_fee= 19000, fee_paid=19000 WHERE stud_ID = \"stud114\";\n",
        "UPDATE financial_details SET sem_fee= 20800, fee_paid=20800 WHERE stud_ID = \"stud115\";"
      ],
      "metadata": {
        "colab": {
          "base_uri": "https://localhost:8080/"
        },
        "id": "YX1dzFHtTw71",
        "outputId": "7b62d46a-1409-4257-8190-9b69610de880"
      },
      "execution_count": 19,
      "outputs": [
        {
          "output_type": "stream",
          "name": "stdout",
          "text": [
            " * sqlite:///ZinduaSchoolStudent.db\n",
            "1 rows affected.\n",
            "1 rows affected.\n",
            "1 rows affected.\n",
            "1 rows affected.\n",
            "1 rows affected.\n",
            "1 rows affected.\n",
            "1 rows affected.\n",
            "1 rows affected.\n",
            "1 rows affected.\n",
            "1 rows affected.\n",
            "1 rows affected.\n",
            "1 rows affected.\n",
            "1 rows affected.\n",
            "1 rows affected.\n",
            "1 rows affected.\n"
          ]
        },
        {
          "output_type": "execute_result",
          "data": {
            "text/plain": [
              "[]"
            ]
          },
          "metadata": {},
          "execution_count": 19
        }
      ]
    },
    {
      "cell_type": "code",
      "source": [
        "%sql SELECT * FROM financial_details;"
      ],
      "metadata": {
        "colab": {
          "base_uri": "https://localhost:8080/",
          "height": 389
        },
        "id": "qLv5XH9dT527",
        "outputId": "59d1a9e1-4d9c-4c3f-8e49-23bcea34bb20"
      },
      "execution_count": 31,
      "outputs": [
        {
          "output_type": "stream",
          "name": "stdout",
          "text": [
            " * sqlite:///ZinduaSchoolStudent.db\n",
            "Done.\n"
          ]
        },
        {
          "output_type": "execute_result",
          "data": {
            "text/plain": [
              "[('stud101', 'Hermione Granger', 25000, 25000, 'True'),\n",
              " ('stud102', 'Draco Malfo', 25000, 19000, 'False'),\n",
              " ('stud103', 'Jayden Wamashati', 21900, 20000, 'False'),\n",
              " ('stud104', 'Ron Weasley', 22000, 22000, 'True'),\n",
              " ('stud105', 'Dolores Umbridge', 25000, 23400, 'False'),\n",
              " ('stud106', 'Hedwig Tonks', 25000, 27000, 'True'),\n",
              " ('stud107', 'Chao Chang', 24230, 21200, 'False'),\n",
              " ('stud108', 'Curfew Yaeitpm', 25000, 23500, 'False'),\n",
              " ('stud109', 'Chaptr Mukenya', 25000, 24500, 'False'),\n",
              " ('stud110', 'Natalie Mpema', 25000, 25000, 'True'),\n",
              " ('stud111', 'Crew Nundi', 26000, 26000, 'True'),\n",
              " ('stud112', 'Bandi Kagunda', 25000, 20900, 'False'),\n",
              " ('stud113', 'Testimony Omolo', 25000, 22300, 'False'),\n",
              " ('stud114', 'Career Mpya', 19000, 19000, 'True'),\n",
              " ('stud115', 'Deamon Anduro', 20800, 20800, 'True')]"
            ],
            "text/html": [
              "<table>\n",
              "    <thead>\n",
              "        <tr>\n",
              "            <th>stud_ID</th>\n",
              "            <th>stud_name</th>\n",
              "            <th>sem_fee</th>\n",
              "            <th>fee_paid</th>\n",
              "            <th>fee_cleared</th>\n",
              "        </tr>\n",
              "    </thead>\n",
              "    <tbody>\n",
              "        <tr>\n",
              "            <td>stud101</td>\n",
              "            <td>Hermione Granger</td>\n",
              "            <td>25000</td>\n",
              "            <td>25000</td>\n",
              "            <td>True</td>\n",
              "        </tr>\n",
              "        <tr>\n",
              "            <td>stud102</td>\n",
              "            <td>Draco Malfo</td>\n",
              "            <td>25000</td>\n",
              "            <td>19000</td>\n",
              "            <td>False</td>\n",
              "        </tr>\n",
              "        <tr>\n",
              "            <td>stud103</td>\n",
              "            <td>Jayden Wamashati</td>\n",
              "            <td>21900</td>\n",
              "            <td>20000</td>\n",
              "            <td>False</td>\n",
              "        </tr>\n",
              "        <tr>\n",
              "            <td>stud104</td>\n",
              "            <td>Ron Weasley</td>\n",
              "            <td>22000</td>\n",
              "            <td>22000</td>\n",
              "            <td>True</td>\n",
              "        </tr>\n",
              "        <tr>\n",
              "            <td>stud105</td>\n",
              "            <td>Dolores Umbridge</td>\n",
              "            <td>25000</td>\n",
              "            <td>23400</td>\n",
              "            <td>False</td>\n",
              "        </tr>\n",
              "        <tr>\n",
              "            <td>stud106</td>\n",
              "            <td>Hedwig Tonks</td>\n",
              "            <td>25000</td>\n",
              "            <td>27000</td>\n",
              "            <td>True</td>\n",
              "        </tr>\n",
              "        <tr>\n",
              "            <td>stud107</td>\n",
              "            <td>Chao Chang</td>\n",
              "            <td>24230</td>\n",
              "            <td>21200</td>\n",
              "            <td>False</td>\n",
              "        </tr>\n",
              "        <tr>\n",
              "            <td>stud108</td>\n",
              "            <td>Curfew Yaeitpm</td>\n",
              "            <td>25000</td>\n",
              "            <td>23500</td>\n",
              "            <td>False</td>\n",
              "        </tr>\n",
              "        <tr>\n",
              "            <td>stud109</td>\n",
              "            <td>Chaptr Mukenya</td>\n",
              "            <td>25000</td>\n",
              "            <td>24500</td>\n",
              "            <td>False</td>\n",
              "        </tr>\n",
              "        <tr>\n",
              "            <td>stud110</td>\n",
              "            <td>Natalie Mpema</td>\n",
              "            <td>25000</td>\n",
              "            <td>25000</td>\n",
              "            <td>True</td>\n",
              "        </tr>\n",
              "        <tr>\n",
              "            <td>stud111</td>\n",
              "            <td>Crew Nundi</td>\n",
              "            <td>26000</td>\n",
              "            <td>26000</td>\n",
              "            <td>True</td>\n",
              "        </tr>\n",
              "        <tr>\n",
              "            <td>stud112</td>\n",
              "            <td>Bandi Kagunda</td>\n",
              "            <td>25000</td>\n",
              "            <td>20900</td>\n",
              "            <td>False</td>\n",
              "        </tr>\n",
              "        <tr>\n",
              "            <td>stud113</td>\n",
              "            <td>Testimony Omolo</td>\n",
              "            <td>25000</td>\n",
              "            <td>22300</td>\n",
              "            <td>False</td>\n",
              "        </tr>\n",
              "        <tr>\n",
              "            <td>stud114</td>\n",
              "            <td>Career Mpya</td>\n",
              "            <td>19000</td>\n",
              "            <td>19000</td>\n",
              "            <td>True</td>\n",
              "        </tr>\n",
              "        <tr>\n",
              "            <td>stud115</td>\n",
              "            <td>Deamon Anduro</td>\n",
              "            <td>20800</td>\n",
              "            <td>20800</td>\n",
              "            <td>True</td>\n",
              "        </tr>\n",
              "    </tbody>\n",
              "</table>"
            ]
          },
          "metadata": {},
          "execution_count": 31
        }
      ]
    },
    {
      "cell_type": "markdown",
      "source": [
        "Using JOIN get the student names, school id, email, phone number (new_stud_details)"
      ],
      "metadata": {
        "id": "9T3wyl6Jii05"
      }
    },
    {
      "cell_type": "code",
      "source": [
        "%%sql SELECT personal_details.stud_name, personal_details.stud_ID, personal_details.phone_number, school_details.stud_email\n",
        "FROM personal_details\n",
        "JOIN school_details\n",
        "  ON personal_details.stud_ID=school_details.stud_ID;"
      ],
      "metadata": {
        "colab": {
          "base_uri": "https://localhost:8080/",
          "height": 389
        },
        "id": "4noqdk6BeGhg",
        "outputId": "952724a6-cac3-472d-defe-845c1b7ef8e5"
      },
      "execution_count": 32,
      "outputs": [
        {
          "output_type": "stream",
          "name": "stdout",
          "text": [
            " * sqlite:///ZinduaSchoolStudent.db\n",
            "Done.\n"
          ]
        },
        {
          "output_type": "execute_result",
          "data": {
            "text/plain": [
              "[('Hermione Granger', 'stud101', '0712345678', 'HermioneGranger@zinduaschool.ac'),\n",
              " ('Draco Malfo', 'stud102', '0723456781', 'DracoMalfo@zinduaschool.ac'),\n",
              " ('Jayden Wamashati', 'stud103', '0734567812', 'JaydenWamashati@zinduaschool.ac'),\n",
              " ('Ron Weasley', 'stud104', '0745678123', 'RonWeasley@zinduaschool.ac'),\n",
              " ('Dolores Umbridge', 'stud105', '0756781234', 'DoloresUmbridge@zinduaschool.ac'),\n",
              " ('Hedwig Tonks', 'stud106', '0767812345', 'HedwigTonks@zinduaschool.ac'),\n",
              " ('Chao Chang', 'stud107', '0778123456', 'ChaoChang@zinduaschool.ac'),\n",
              " ('Curfew Yaeitpm', 'stud108', '0781234567', 'CurfewYaeitpm@zinduaschool.ac'),\n",
              " ('Chaptr Mukenya', 'stud109', '0722345678', 'ChaptrMukenya@zinduaschool.ac'),\n",
              " ('Natalie Mpema', 'stud110', '0733456781', 'NatalieMpema@zinduaschool.ac'),\n",
              " ('Crew Nundi', 'stud111', '0744567812', 'CrewNundi@zinduaschool.ac'),\n",
              " ('Bandi Kagunda', 'stud112', '0755678123', 'BandiKagunda@zinduaschool.ac'),\n",
              " ('Testimony Omolo', 'stud113', '0766456781', 'TestimonyOmolo@zinduaschool.ac'),\n",
              " ('Career Mpya', 'stud114', '0741367812', 'CareerMpya@zinduaschool.ac'),\n",
              " ('Deamon Anduro', 'stud115', '0744421123', 'DeamonAnduro@zinduaschool.ac')]"
            ],
            "text/html": [
              "<table>\n",
              "    <thead>\n",
              "        <tr>\n",
              "            <th>stud_name</th>\n",
              "            <th>stud_ID</th>\n",
              "            <th>phone_number</th>\n",
              "            <th>stud_email</th>\n",
              "        </tr>\n",
              "    </thead>\n",
              "    <tbody>\n",
              "        <tr>\n",
              "            <td>Hermione Granger</td>\n",
              "            <td>stud101</td>\n",
              "            <td>0712345678</td>\n",
              "            <td>HermioneGranger@zinduaschool.ac</td>\n",
              "        </tr>\n",
              "        <tr>\n",
              "            <td>Draco Malfo</td>\n",
              "            <td>stud102</td>\n",
              "            <td>0723456781</td>\n",
              "            <td>DracoMalfo@zinduaschool.ac</td>\n",
              "        </tr>\n",
              "        <tr>\n",
              "            <td>Jayden Wamashati</td>\n",
              "            <td>stud103</td>\n",
              "            <td>0734567812</td>\n",
              "            <td>JaydenWamashati@zinduaschool.ac</td>\n",
              "        </tr>\n",
              "        <tr>\n",
              "            <td>Ron Weasley</td>\n",
              "            <td>stud104</td>\n",
              "            <td>0745678123</td>\n",
              "            <td>RonWeasley@zinduaschool.ac</td>\n",
              "        </tr>\n",
              "        <tr>\n",
              "            <td>Dolores Umbridge</td>\n",
              "            <td>stud105</td>\n",
              "            <td>0756781234</td>\n",
              "            <td>DoloresUmbridge@zinduaschool.ac</td>\n",
              "        </tr>\n",
              "        <tr>\n",
              "            <td>Hedwig Tonks</td>\n",
              "            <td>stud106</td>\n",
              "            <td>0767812345</td>\n",
              "            <td>HedwigTonks@zinduaschool.ac</td>\n",
              "        </tr>\n",
              "        <tr>\n",
              "            <td>Chao Chang</td>\n",
              "            <td>stud107</td>\n",
              "            <td>0778123456</td>\n",
              "            <td>ChaoChang@zinduaschool.ac</td>\n",
              "        </tr>\n",
              "        <tr>\n",
              "            <td>Curfew Yaeitpm</td>\n",
              "            <td>stud108</td>\n",
              "            <td>0781234567</td>\n",
              "            <td>CurfewYaeitpm@zinduaschool.ac</td>\n",
              "        </tr>\n",
              "        <tr>\n",
              "            <td>Chaptr Mukenya</td>\n",
              "            <td>stud109</td>\n",
              "            <td>0722345678</td>\n",
              "            <td>ChaptrMukenya@zinduaschool.ac</td>\n",
              "        </tr>\n",
              "        <tr>\n",
              "            <td>Natalie Mpema</td>\n",
              "            <td>stud110</td>\n",
              "            <td>0733456781</td>\n",
              "            <td>NatalieMpema@zinduaschool.ac</td>\n",
              "        </tr>\n",
              "        <tr>\n",
              "            <td>Crew Nundi</td>\n",
              "            <td>stud111</td>\n",
              "            <td>0744567812</td>\n",
              "            <td>CrewNundi@zinduaschool.ac</td>\n",
              "        </tr>\n",
              "        <tr>\n",
              "            <td>Bandi Kagunda</td>\n",
              "            <td>stud112</td>\n",
              "            <td>0755678123</td>\n",
              "            <td>BandiKagunda@zinduaschool.ac</td>\n",
              "        </tr>\n",
              "        <tr>\n",
              "            <td>Testimony Omolo</td>\n",
              "            <td>stud113</td>\n",
              "            <td>0766456781</td>\n",
              "            <td>TestimonyOmolo@zinduaschool.ac</td>\n",
              "        </tr>\n",
              "        <tr>\n",
              "            <td>Career Mpya</td>\n",
              "            <td>stud114</td>\n",
              "            <td>0741367812</td>\n",
              "            <td>CareerMpya@zinduaschool.ac</td>\n",
              "        </tr>\n",
              "        <tr>\n",
              "            <td>Deamon Anduro</td>\n",
              "            <td>stud115</td>\n",
              "            <td>0744421123</td>\n",
              "            <td>DeamonAnduro@zinduaschool.ac</td>\n",
              "        </tr>\n",
              "    </tbody>\n",
              "</table>"
            ]
          },
          "metadata": {},
          "execution_count": 32
        }
      ]
    },
    {
      "cell_type": "markdown",
      "source": [
        "Create a table with all the details from contacts to school and financial details (full_stud_details)"
      ],
      "metadata": {
        "id": "snEGahFejcLj"
      }
    },
    {
      "cell_type": "code",
      "source": [
        "%%sql SELECT * FROM financial_details;"
      ],
      "metadata": {
        "colab": {
          "base_uri": "https://localhost:8080/",
          "height": 389
        },
        "id": "PUwlzRhVtZKF",
        "outputId": "22061011-1fa9-44a6-ccdc-1053df342fab"
      },
      "execution_count": 33,
      "outputs": [
        {
          "output_type": "stream",
          "name": "stdout",
          "text": [
            " * sqlite:///ZinduaSchoolStudent.db\n",
            "Done.\n"
          ]
        },
        {
          "output_type": "execute_result",
          "data": {
            "text/plain": [
              "[('stud101', 'Hermione Granger', 25000, 25000, 'True'),\n",
              " ('stud102', 'Draco Malfo', 25000, 19000, 'False'),\n",
              " ('stud103', 'Jayden Wamashati', 21900, 20000, 'False'),\n",
              " ('stud104', 'Ron Weasley', 22000, 22000, 'True'),\n",
              " ('stud105', 'Dolores Umbridge', 25000, 23400, 'False'),\n",
              " ('stud106', 'Hedwig Tonks', 25000, 27000, 'True'),\n",
              " ('stud107', 'Chao Chang', 24230, 21200, 'False'),\n",
              " ('stud108', 'Curfew Yaeitpm', 25000, 23500, 'False'),\n",
              " ('stud109', 'Chaptr Mukenya', 25000, 24500, 'False'),\n",
              " ('stud110', 'Natalie Mpema', 25000, 25000, 'True'),\n",
              " ('stud111', 'Crew Nundi', 26000, 26000, 'True'),\n",
              " ('stud112', 'Bandi Kagunda', 25000, 20900, 'False'),\n",
              " ('stud113', 'Testimony Omolo', 25000, 22300, 'False'),\n",
              " ('stud114', 'Career Mpya', 19000, 19000, 'True'),\n",
              " ('stud115', 'Deamon Anduro', 20800, 20800, 'True')]"
            ],
            "text/html": [
              "<table>\n",
              "    <thead>\n",
              "        <tr>\n",
              "            <th>stud_ID</th>\n",
              "            <th>stud_name</th>\n",
              "            <th>sem_fee</th>\n",
              "            <th>fee_paid</th>\n",
              "            <th>fee_cleared</th>\n",
              "        </tr>\n",
              "    </thead>\n",
              "    <tbody>\n",
              "        <tr>\n",
              "            <td>stud101</td>\n",
              "            <td>Hermione Granger</td>\n",
              "            <td>25000</td>\n",
              "            <td>25000</td>\n",
              "            <td>True</td>\n",
              "        </tr>\n",
              "        <tr>\n",
              "            <td>stud102</td>\n",
              "            <td>Draco Malfo</td>\n",
              "            <td>25000</td>\n",
              "            <td>19000</td>\n",
              "            <td>False</td>\n",
              "        </tr>\n",
              "        <tr>\n",
              "            <td>stud103</td>\n",
              "            <td>Jayden Wamashati</td>\n",
              "            <td>21900</td>\n",
              "            <td>20000</td>\n",
              "            <td>False</td>\n",
              "        </tr>\n",
              "        <tr>\n",
              "            <td>stud104</td>\n",
              "            <td>Ron Weasley</td>\n",
              "            <td>22000</td>\n",
              "            <td>22000</td>\n",
              "            <td>True</td>\n",
              "        </tr>\n",
              "        <tr>\n",
              "            <td>stud105</td>\n",
              "            <td>Dolores Umbridge</td>\n",
              "            <td>25000</td>\n",
              "            <td>23400</td>\n",
              "            <td>False</td>\n",
              "        </tr>\n",
              "        <tr>\n",
              "            <td>stud106</td>\n",
              "            <td>Hedwig Tonks</td>\n",
              "            <td>25000</td>\n",
              "            <td>27000</td>\n",
              "            <td>True</td>\n",
              "        </tr>\n",
              "        <tr>\n",
              "            <td>stud107</td>\n",
              "            <td>Chao Chang</td>\n",
              "            <td>24230</td>\n",
              "            <td>21200</td>\n",
              "            <td>False</td>\n",
              "        </tr>\n",
              "        <tr>\n",
              "            <td>stud108</td>\n",
              "            <td>Curfew Yaeitpm</td>\n",
              "            <td>25000</td>\n",
              "            <td>23500</td>\n",
              "            <td>False</td>\n",
              "        </tr>\n",
              "        <tr>\n",
              "            <td>stud109</td>\n",
              "            <td>Chaptr Mukenya</td>\n",
              "            <td>25000</td>\n",
              "            <td>24500</td>\n",
              "            <td>False</td>\n",
              "        </tr>\n",
              "        <tr>\n",
              "            <td>stud110</td>\n",
              "            <td>Natalie Mpema</td>\n",
              "            <td>25000</td>\n",
              "            <td>25000</td>\n",
              "            <td>True</td>\n",
              "        </tr>\n",
              "        <tr>\n",
              "            <td>stud111</td>\n",
              "            <td>Crew Nundi</td>\n",
              "            <td>26000</td>\n",
              "            <td>26000</td>\n",
              "            <td>True</td>\n",
              "        </tr>\n",
              "        <tr>\n",
              "            <td>stud112</td>\n",
              "            <td>Bandi Kagunda</td>\n",
              "            <td>25000</td>\n",
              "            <td>20900</td>\n",
              "            <td>False</td>\n",
              "        </tr>\n",
              "        <tr>\n",
              "            <td>stud113</td>\n",
              "            <td>Testimony Omolo</td>\n",
              "            <td>25000</td>\n",
              "            <td>22300</td>\n",
              "            <td>False</td>\n",
              "        </tr>\n",
              "        <tr>\n",
              "            <td>stud114</td>\n",
              "            <td>Career Mpya</td>\n",
              "            <td>19000</td>\n",
              "            <td>19000</td>\n",
              "            <td>True</td>\n",
              "        </tr>\n",
              "        <tr>\n",
              "            <td>stud115</td>\n",
              "            <td>Deamon Anduro</td>\n",
              "            <td>20800</td>\n",
              "            <td>20800</td>\n",
              "            <td>True</td>\n",
              "        </tr>\n",
              "    </tbody>\n",
              "</table>"
            ]
          },
          "metadata": {},
          "execution_count": 33
        }
      ]
    },
    {
      "cell_type": "markdown",
      "source": [
        " Create a table with all the details from contacts to school and financial details (full_stud_details)"
      ],
      "metadata": {
        "id": "-_RtZHkP4kTW"
      }
    },
    {
      "cell_type": "code",
      "source": [
        "%%sql CREATE TABLE full_stud_details AS\n",
        "SELECT contact_details.stud_email, contact_details.phone_number, contact_details.next_of_kin_name, contact_details.next_of_kin_relation, contact_details.next_of_kin_contacts, school_details.stud_ID, school_details.current_home_county, school_details.secondary_school_county, school_details.residence, school_details.stud_email, financial_details.stud_ID, financial_details.stud_name, financial_details.sem_fee, financial_details.fee_paid\n",
        "FROM contact_details\n",
        "JOIN school_details ON contact_details.stud_email=school_details.stud_email\n",
        "JOIN financial_details ON contact_details.stud_email=financial_details.stud_ID;"
      ],
      "metadata": {
        "colab": {
          "base_uri": "https://localhost:8080/"
        },
        "id": "rTZinUmNzICW",
        "outputId": "85eddfe2-5deb-47b4-f58c-e76c4606352c"
      },
      "execution_count": 34,
      "outputs": [
        {
          "output_type": "stream",
          "name": "stdout",
          "text": [
            " * sqlite:///ZinduaSchoolStudent.db\n",
            "(sqlite3.OperationalError) table full_stud_details already exists\n",
            "[SQL: CREATE TABLE full_stud_details AS\n",
            "SELECT contact_details.stud_email, contact_details.phone_number, contact_details.next_of_kin_name, contact_details.next_of_kin_relation, contact_details.next_of_kin_contacts, school_details.stud_ID, school_details.current_home_county, school_details.secondary_school_county, school_details.residence, school_details.stud_email, financial_details.stud_ID, financial_details.stud_name, financial_details.sem_fee, financial_details.fee_paid\n",
            "FROM contact_details\n",
            "JOIN school_details ON contact_details.stud_email=school_details.stud_email\n",
            "JOIN financial_details ON contact_details.stud_email=financial_details.stud_ID;]\n",
            "(Background on this error at: https://sqlalche.me/e/20/e3q8)\n"
          ]
        }
      ]
    },
    {
      "cell_type": "code",
      "source": [
        "%sql SELECT * FROM full_stud_details;"
      ],
      "metadata": {
        "colab": {
          "base_uri": "https://localhost:8080/",
          "height": 74
        },
        "id": "fs3MRUL-1STy",
        "outputId": "db8691f0-567a-4fdb-effb-27691e6f6ebd"
      },
      "execution_count": 35,
      "outputs": [
        {
          "output_type": "stream",
          "name": "stdout",
          "text": [
            " * sqlite:///ZinduaSchoolStudent.db\n",
            "Done.\n"
          ]
        },
        {
          "output_type": "execute_result",
          "data": {
            "text/plain": [
              "[]"
            ],
            "text/html": [
              "<table>\n",
              "    <thead>\n",
              "        <tr>\n",
              "            <th>stud_email</th>\n",
              "            <th>phone_number</th>\n",
              "            <th>next_of_kin_name</th>\n",
              "            <th>next_of_kin_relation</th>\n",
              "            <th>next_of_kin_contacts</th>\n",
              "            <th>stud_ID</th>\n",
              "            <th>current_home_county</th>\n",
              "            <th>secondary_school_county</th>\n",
              "            <th>residence</th>\n",
              "            <th>stud_email:1</th>\n",
              "            <th>stud_ID:1</th>\n",
              "            <th>stud_name</th>\n",
              "            <th>sem_fee</th>\n",
              "            <th>fee_paid</th>\n",
              "        </tr>\n",
              "    </thead>\n",
              "    <tbody>\n",
              "    </tbody>\n",
              "</table>"
            ]
          },
          "metadata": {},
          "execution_count": 35
        }
      ]
    },
    {
      "cell_type": "code",
      "source": [
        "%%sql ALTER TABLE financial_details\n",
        "ADD COLUMN fee_cleared TEXT DEFAULT 'False';"
      ],
      "metadata": {
        "colab": {
          "base_uri": "https://localhost:8080/"
        },
        "id": "W-oCcO5F5A5g",
        "outputId": "fc315917-0eed-4fd0-cf31-b23986618dd3"
      },
      "execution_count": 25,
      "outputs": [
        {
          "output_type": "stream",
          "name": "stdout",
          "text": [
            " * sqlite:///ZinduaSchoolStudent.db\n",
            "Done.\n"
          ]
        },
        {
          "output_type": "execute_result",
          "data": {
            "text/plain": [
              "[]"
            ]
          },
          "metadata": {},
          "execution_count": 25
        }
      ]
    },
    {
      "cell_type": "code",
      "source": [
        "%%sql UPDATE financial_details\n",
        "SET fee_cleared = 'True'\n",
        "WHERE fee_paid >= sem_fee;"
      ],
      "metadata": {
        "colab": {
          "base_uri": "https://localhost:8080/"
        },
        "id": "Cy76XANa5MGW",
        "outputId": "09cc9598-a9b7-4268-b9a9-72c1549ef4f6"
      },
      "execution_count": 38,
      "outputs": [
        {
          "output_type": "stream",
          "name": "stdout",
          "text": [
            " * sqlite:///ZinduaSchoolStudent.db\n",
            "7 rows affected.\n"
          ]
        },
        {
          "output_type": "execute_result",
          "data": {
            "text/plain": [
              "[]"
            ]
          },
          "metadata": {},
          "execution_count": 38
        }
      ]
    },
    {
      "cell_type": "markdown",
      "source": [
        "Get the national ID and name of all students who have cleared their fees (fee_cleared)"
      ],
      "metadata": {
        "id": "gMBlVVdd80rY"
      }
    },
    {
      "cell_type": "code",
      "source": [
        "%%sql SELECT personal_details.national_ID, financial_details.stud_name\n",
        "FROM personal_details\n",
        "JOIN financial_details\n",
        "  ON personal_details.stud_ID=financial_details.stud_ID\n",
        "WHERE fee_cleared='True';"
      ],
      "metadata": {
        "colab": {
          "base_uri": "https://localhost:8080/",
          "height": 221
        },
        "id": "IpvMqfg08Cc-",
        "outputId": "a2651a08-9b56-468a-c93d-d66cd00b9b25"
      },
      "execution_count": 37,
      "outputs": [
        {
          "output_type": "stream",
          "name": "stdout",
          "text": [
            " * sqlite:///ZinduaSchoolStudent.db\n",
            "Done.\n"
          ]
        },
        {
          "output_type": "execute_result",
          "data": {
            "text/plain": [
              "[(344534, 'Hermione Granger'),\n",
              " (377302, 'Ron Weasley'),\n",
              " (307243, 'Hedwig Tonks'),\n",
              " (339152, 'Natalie Mpema'),\n",
              " (339746, 'Crew Nundi'),\n",
              " (321746, 'Career Mpya'),\n",
              " (390234, 'Deamon Anduro')]"
            ],
            "text/html": [
              "<table>\n",
              "    <thead>\n",
              "        <tr>\n",
              "            <th>national_ID</th>\n",
              "            <th>stud_name</th>\n",
              "        </tr>\n",
              "    </thead>\n",
              "    <tbody>\n",
              "        <tr>\n",
              "            <td>344534</td>\n",
              "            <td>Hermione Granger</td>\n",
              "        </tr>\n",
              "        <tr>\n",
              "            <td>377302</td>\n",
              "            <td>Ron Weasley</td>\n",
              "        </tr>\n",
              "        <tr>\n",
              "            <td>307243</td>\n",
              "            <td>Hedwig Tonks</td>\n",
              "        </tr>\n",
              "        <tr>\n",
              "            <td>339152</td>\n",
              "            <td>Natalie Mpema</td>\n",
              "        </tr>\n",
              "        <tr>\n",
              "            <td>339746</td>\n",
              "            <td>Crew Nundi</td>\n",
              "        </tr>\n",
              "        <tr>\n",
              "            <td>321746</td>\n",
              "            <td>Career Mpya</td>\n",
              "        </tr>\n",
              "        <tr>\n",
              "            <td>390234</td>\n",
              "            <td>Deamon Anduro</td>\n",
              "        </tr>\n",
              "    </tbody>\n",
              "</table>"
            ]
          },
          "metadata": {},
          "execution_count": 37
        }
      ]
    },
    {
      "cell_type": "markdown",
      "source": [
        " Get the total sum of fees paid so far and the total current deficit (total_fee_balance)"
      ],
      "metadata": {
        "id": "vOQF4GSn9fN0"
      }
    },
    {
      "cell_type": "code",
      "source": [
        "%%sql SELECT\n",
        "    SUM(fee_paid) AS total_fees_paid,\n",
        "    SUM(sem_fee - fee_paid) AS total_fee_balance\n",
        "FROM financial_details;"
      ],
      "metadata": {
        "colab": {
          "base_uri": "https://localhost:8080/",
          "height": 95
        },
        "id": "al4kfS3p9JET",
        "outputId": "cb166c90-4f71-49cc-d08f-9df78005d5a0"
      },
      "execution_count": 39,
      "outputs": [
        {
          "output_type": "stream",
          "name": "stdout",
          "text": [
            " * sqlite:///ZinduaSchoolStudent.db\n",
            "Done.\n"
          ]
        },
        {
          "output_type": "execute_result",
          "data": {
            "text/plain": [
              "[(339600, 19330)]"
            ],
            "text/html": [
              "<table>\n",
              "    <thead>\n",
              "        <tr>\n",
              "            <th>total_fees_paid</th>\n",
              "            <th>total_fee_balance</th>\n",
              "        </tr>\n",
              "    </thead>\n",
              "    <tbody>\n",
              "        <tr>\n",
              "            <td>339600</td>\n",
              "            <td>19330</td>\n",
              "        </tr>\n",
              "    </tbody>\n",
              "</table>"
            ]
          },
          "metadata": {},
          "execution_count": 39
        }
      ]
    },
    {
      "cell_type": "markdown",
      "source": [
        "Get the count of students who share a current home county i.e., Say Nairobi, get the number of students who’s current_home_county is Nairobi, and so on for all available counties (home_county_count)\n"
      ],
      "metadata": {
        "id": "iTIjHuXV-bfe"
      }
    },
    {
      "cell_type": "code",
      "source": [
        "%%sql SELECT current_home_county, COUNT(*) AS home_county_count\n",
        "FROM school_details\n",
        "GROUP BY current_home_county;"
      ],
      "metadata": {
        "colab": {
          "base_uri": "https://localhost:8080/",
          "height": 221
        },
        "id": "eaMqPBDU-dgP",
        "outputId": "78020559-2534-4c93-9fe8-3991d9ea8481"
      },
      "execution_count": 40,
      "outputs": [
        {
          "output_type": "stream",
          "name": "stdout",
          "text": [
            " * sqlite:///ZinduaSchoolStudent.db\n",
            "Done.\n"
          ]
        },
        {
          "output_type": "execute_result",
          "data": {
            "text/plain": [
              "[('Kericho', 3),\n",
              " ('Kiambu', 2),\n",
              " ('Kisumu', 2),\n",
              " ('Nairobi', 2),\n",
              " ('Nakuru', 3),\n",
              " ('Nyamira', 1),\n",
              " ('Samburu', 2)]"
            ],
            "text/html": [
              "<table>\n",
              "    <thead>\n",
              "        <tr>\n",
              "            <th>current_home_county</th>\n",
              "            <th>home_county_count</th>\n",
              "        </tr>\n",
              "    </thead>\n",
              "    <tbody>\n",
              "        <tr>\n",
              "            <td>Kericho</td>\n",
              "            <td>3</td>\n",
              "        </tr>\n",
              "        <tr>\n",
              "            <td>Kiambu</td>\n",
              "            <td>2</td>\n",
              "        </tr>\n",
              "        <tr>\n",
              "            <td>Kisumu</td>\n",
              "            <td>2</td>\n",
              "        </tr>\n",
              "        <tr>\n",
              "            <td>Nairobi</td>\n",
              "            <td>2</td>\n",
              "        </tr>\n",
              "        <tr>\n",
              "            <td>Nakuru</td>\n",
              "            <td>3</td>\n",
              "        </tr>\n",
              "        <tr>\n",
              "            <td>Nyamira</td>\n",
              "            <td>1</td>\n",
              "        </tr>\n",
              "        <tr>\n",
              "            <td>Samburu</td>\n",
              "            <td>2</td>\n",
              "        </tr>\n",
              "    </tbody>\n",
              "</table>"
            ]
          },
          "metadata": {},
          "execution_count": 40
        }
      ]
    },
    {
      "cell_type": "markdown",
      "source": [
        "Get the count of Male and/or Female students from each secondary_school_county (secondary_school_count). The table should contain a column for male student count and female student count for each county."
      ],
      "metadata": {
        "id": "hx_vSjtF_QRI"
      }
    },
    {
      "cell_type": "code",
      "source": [
        "%%sql SELECT\n",
        "    school_details.secondary_school_county,\n",
        "    SUM(CASE WHEN gender = 'Male' THEN 1 ELSE 0 END) AS male_student_count,\n",
        "    SUM(CASE WHEN gender = 'Female' THEN 1 ELSE 0 END) AS female_student_count\n",
        "FROM\n",
        "    personal_details\n",
        "JOIN school_details\n",
        "  ON personal_details.stud_ID=school_details.stud_ID\n",
        "GROUP BY\n",
        "    school_details.secondary_school_county;"
      ],
      "metadata": {
        "colab": {
          "base_uri": "https://localhost:8080/",
          "height": 179
        },
        "id": "mv0UDkHMmQeH",
        "outputId": "cb1cca37-6b27-4879-e2ab-a10cd378311d"
      },
      "execution_count": 49,
      "outputs": [
        {
          "output_type": "stream",
          "name": "stdout",
          "text": [
            " * sqlite:///ZinduaSchoolStudent.db\n",
            "Done.\n"
          ]
        },
        {
          "output_type": "execute_result",
          "data": {
            "text/plain": [
              "[('Mombasa', 1, 3),\n",
              " ('Nairobi', 4, 2),\n",
              " ('Nakuru', 1, 2),\n",
              " ('Taita Taveta', 1, 0),\n",
              " ('Turkana', 1, 0)]"
            ],
            "text/html": [
              "<table>\n",
              "    <thead>\n",
              "        <tr>\n",
              "            <th>secondary_school_county</th>\n",
              "            <th>male_student_count</th>\n",
              "            <th>female_student_count</th>\n",
              "        </tr>\n",
              "    </thead>\n",
              "    <tbody>\n",
              "        <tr>\n",
              "            <td>Mombasa</td>\n",
              "            <td>1</td>\n",
              "            <td>3</td>\n",
              "        </tr>\n",
              "        <tr>\n",
              "            <td>Nairobi</td>\n",
              "            <td>4</td>\n",
              "            <td>2</td>\n",
              "        </tr>\n",
              "        <tr>\n",
              "            <td>Nakuru</td>\n",
              "            <td>1</td>\n",
              "            <td>2</td>\n",
              "        </tr>\n",
              "        <tr>\n",
              "            <td>Taita Taveta</td>\n",
              "            <td>1</td>\n",
              "            <td>0</td>\n",
              "        </tr>\n",
              "        <tr>\n",
              "            <td>Turkana</td>\n",
              "            <td>1</td>\n",
              "            <td>0</td>\n",
              "        </tr>\n",
              "    </tbody>\n",
              "</table>"
            ]
          },
          "metadata": {},
          "execution_count": 49
        }
      ]
    },
    {
      "cell_type": "markdown",
      "source": [
        "Get the percentage of students who set their next_of_kin as Mother vs those that set it as Father1. (kin_percentage)"
      ],
      "metadata": {
        "id": "pEQ91L4TqHtx"
      }
    },
    {
      "cell_type": "code",
      "source": [
        "%%sql SELECT\n",
        "    next_of_kin_relation,\n",
        "    (SUM(CASE WHEN next_of_kin_relation = 'Mother' THEN 1 ELSE 0 END) * 100.0 / (SELECT COUNT(*) FROM contact_details)) AS kin_percentage\n",
        "FROM\n",
        "    contact_details\n",
        "UNION\n",
        "SELECT\n",
        "    next_of_kin_relation,\n",
        "    (SUM(CASE WHEN next_of_kin_relation = 'Father' THEN 1 ELSE 0 END) * 100.0 / (SELECT COUNT(*) FROM contact_details)) AS kin_percentage\n",
        "FROM\n",
        "    contact_details;"
      ],
      "metadata": {
        "colab": {
          "base_uri": "https://localhost:8080/",
          "height": 116
        },
        "id": "76hBSvOutiJV",
        "outputId": "f1b4f7e0-1dba-4cd5-d432-12ac5896dd3f"
      },
      "execution_count": 69,
      "outputs": [
        {
          "output_type": "stream",
          "name": "stdout",
          "text": [
            " * sqlite:///ZinduaSchoolStudent.db\n",
            "Done.\n"
          ]
        },
        {
          "output_type": "execute_result",
          "data": {
            "text/plain": [
              "[('Father', 46.666666666666664), ('Father', 53.333333333333336)]"
            ],
            "text/html": [
              "<table>\n",
              "    <thead>\n",
              "        <tr>\n",
              "            <th>next_of_kin_relation</th>\n",
              "            <th>kin_percentage</th>\n",
              "        </tr>\n",
              "    </thead>\n",
              "    <tbody>\n",
              "        <tr>\n",
              "            <td>Father</td>\n",
              "            <td>46.666666666666664</td>\n",
              "        </tr>\n",
              "        <tr>\n",
              "            <td>Father</td>\n",
              "            <td>53.333333333333336</td>\n",
              "        </tr>\n",
              "    </tbody>\n",
              "</table>"
            ]
          },
          "metadata": {},
          "execution_count": 69
        }
      ]
    },
    {
      "cell_type": "code",
      "source": [
        "%%sql SELECT\n",
        "    next_of_kin_relation,\n",
        "    (SUM(CASE WHEN next_of_kin_relation = 'Mother' THEN 1 ELSE 0 END) * 100.0 / (SELECT COUNT(*) FROM contact_details)) AS father_percentage,\n",
        "    (SUM(CASE WHEN next_of_kin_relation = 'Father' THEN 1 ELSE 0 END) * 100.0 / (SELECT COUNT(*) FROM contact_details)) AS mother_percentage\n",
        "FROM\n",
        "    contact_details\n",
        "GROUP BY\n",
        "    next_of_kin_relation;"
      ],
      "metadata": {
        "colab": {
          "base_uri": "https://localhost:8080/",
          "height": 116
        },
        "id": "rtxchJvPsQ3x",
        "outputId": "092500f9-5a22-4818-e221-ae53165c26cb"
      },
      "execution_count": 65,
      "outputs": [
        {
          "output_type": "stream",
          "name": "stdout",
          "text": [
            " * sqlite:///ZinduaSchoolStudent.db\n",
            "Done.\n"
          ]
        },
        {
          "output_type": "execute_result",
          "data": {
            "text/plain": [
              "[('Father', 0.0, 53.333333333333336), ('Mother', 46.666666666666664, 0.0)]"
            ],
            "text/html": [
              "<table>\n",
              "    <thead>\n",
              "        <tr>\n",
              "            <th>next_of_kin_relation</th>\n",
              "            <th>father_percentage</th>\n",
              "            <th>mother_percentage</th>\n",
              "        </tr>\n",
              "    </thead>\n",
              "    <tbody>\n",
              "        <tr>\n",
              "            <td>Father</td>\n",
              "            <td>0.0</td>\n",
              "            <td>53.333333333333336</td>\n",
              "        </tr>\n",
              "        <tr>\n",
              "            <td>Mother</td>\n",
              "            <td>46.666666666666664</td>\n",
              "            <td>0.0</td>\n",
              "        </tr>\n",
              "    </tbody>\n",
              "</table>"
            ]
          },
          "metadata": {},
          "execution_count": 65
        }
      ]
    }
  ]
}